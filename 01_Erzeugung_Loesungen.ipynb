{
 "metadata": {
  "name": ""
 },
 "nbformat": 3,
 "nbformat_minor": 0,
 "worksheets": [
  {
   "cells": [
    {
     "cell_type": "markdown",
     "metadata": {},
     "source": [
      "# L\u00f6sungen:\n",
      "\n",
      "* erzeuge ein array arr1 der Form [100, 80, ... , 0] und ein array arr2 mit 100 Elementen von 0.07 bis 42 exclusiv\n",
      "    - welcher Datentyp liegt jeweils vor?\n",
      "    - wie kann der Datentyp explizit gesetzt werden?"
     ]
    },
    {
     "cell_type": "code",
     "collapsed": false,
     "input": [
      "arr1 = np.arange(100, -1, -20)\n",
      "print(arr1, arr1.dtype)\n",
      "\n",
      "arr2 = np.linspace(0.07, 42, num=100, endpoint=False)\n",
      "print(arr2, arr2.dtype)\n",
      "\n",
      "arr1 = np.arange(100, -1, -20, dtype=np.float32)\n",
      "print(arr1, arr1.dtype)"
     ],
     "language": "python",
     "metadata": {},
     "outputs": [
      {
       "output_type": "stream",
       "stream": "stdout",
       "text": [
        "(array([100,  80,  60,  40,  20,   0]), dtype('int64'))\n",
        "(array([  0.07  ,   0.4893,   0.9086,   1.3279,   1.7472,   2.1665,\n",
        "         2.5858,   3.0051,   3.4244,   3.8437,   4.263 ,   4.6823,\n",
        "         5.1016,   5.5209,   5.9402,   6.3595,   6.7788,   7.1981,\n",
        "         7.6174,   8.0367,   8.456 ,   8.8753,   9.2946,   9.7139,\n",
        "        10.1332,  10.5525,  10.9718,  11.3911,  11.8104,  12.2297,\n",
        "        12.649 ,  13.0683,  13.4876,  13.9069,  14.3262,  14.7455,\n",
        "        15.1648,  15.5841,  16.0034,  16.4227,  16.842 ,  17.2613,\n",
        "        17.6806,  18.0999,  18.5192,  18.9385,  19.3578,  19.7771,\n",
        "        20.1964,  20.6157,  21.035 ,  21.4543,  21.8736,  22.2929,\n",
        "        22.7122,  23.1315,  23.5508,  23.9701,  24.3894,  24.8087,\n",
        "        25.228 ,  25.6473,  26.0666,  26.4859,  26.9052,  27.3245,\n",
        "        27.7438,  28.1631,  28.5824,  29.0017,  29.421 ,  29.8403,\n",
        "        30.2596,  30.6789,  31.0982,  31.5175,  31.9368,  32.3561,\n",
        "        32.7754,  33.1947,  33.614 ,  34.0333,  34.4526,  34.8719,\n",
        "        35.2912,  35.7105,  36.1298,  36.5491,  36.9684,  37.3877,\n",
        "        37.807 ,  38.2263,  38.6456,  39.0649,  39.4842,  39.9035,\n",
        "        40.3228,  40.7421,  41.1614,  41.5807]), dtype('float64'))\n",
        "(array([ 100.,   80.,   60.,   40.,   20.,    0.], dtype=float32), dtype('float32'))\n"
       ]
      }
     ],
     "prompt_number": 1
    },
    {
     "cell_type": "markdown",
     "metadata": {},
     "source": [
      "* erzeuge ein leeres / mit \"0\" / mit \"1\" / mit \"47.11\" gef\u00fclltes array mit 10 x 20 x 30 Eintr\u00e4gen\n",
      "    - welche Methode ist schneller und warum?\n",
      "    - was gibt len(a) zur\u00fcck?"
     ]
    },
    {
     "cell_type": "code",
     "collapsed": false,
     "input": [
      "print(\"empty:\")\n",
      "%timeit -n 100 np.empty(shape=(10, 20, 30))\n",
      "\n",
      "print(\"\\nzeros:\")\n",
      "%timeit -n 100 np.zeros(shape=(10, 20, 30))\n",
      "\n",
      "print(\"\\nones:\")\n",
      "%timeit -n 100 np.ones(shape=(10, 20, 30))\n",
      "\n",
      "print(\"\\n47.11:\")\n",
      "%timeit -n 100 np.ones(shape=(10, 20, 30)) * 47.11\n",
      "\n",
      "empty = np.empty(shape=(10, 20, 30))\n",
      "print(\"shape: {}, len: {}\".format(shape(empty), len(empty)))"
     ],
     "language": "python",
     "metadata": {},
     "outputs": [
      {
       "output_type": "stream",
       "stream": "stdout",
       "text": [
        "empty:\n",
        "100 loops, best of 3: 2.46 \u00b5s per loop\n",
        "\n",
        "zeros:\n",
        "100 loops, best of 3: 13.2 \u00b5s per loop\n",
        "\n",
        "ones:\n",
        "100 loops, best of 3: 16.6 \u00b5s per loop\n",
        "\n",
        "47.11:\n",
        "100 loops, best of 3: 53.6 \u00b5s per loop"
       ]
      },
      {
       "output_type": "stream",
       "stream": "stdout",
       "text": [
        "\n",
        "shape: (10, 20, 30), len: 10\n"
       ]
      }
     ],
     "prompt_number": 2
    },
    {
     "cell_type": "markdown",
     "metadata": {},
     "source": [
      "* erzeuge ein 5 x 5 array mit \"1\" auf der Nebendiagonale (np.eye)"
     ]
    },
    {
     "cell_type": "code",
     "collapsed": false,
     "input": [
      "np.eye(5, 5, 1)"
     ],
     "language": "python",
     "metadata": {},
     "outputs": [
      {
       "metadata": {},
       "output_type": "pyout",
       "prompt_number": 3,
       "text": [
        "array([[ 0.,  1.,  0.,  0.,  0.],\n",
        "       [ 0.,  0.,  1.,  0.,  0.],\n",
        "       [ 0.,  0.,  0.,  1.,  0.],\n",
        "       [ 0.,  0.,  0.,  0.,  1.],\n",
        "       [ 0.,  0.,  0.,  0.,  0.]])"
       ]
      }
     ],
     "prompt_number": 3
    },
    {
     "cell_type": "markdown",
     "metadata": {},
     "source": [
      "* was bewirkt array.astype?"
     ]
    },
    {
     "cell_type": "code",
     "collapsed": false,
     "input": [
      "help(empty.astype)"
     ],
     "language": "python",
     "metadata": {},
     "outputs": [
      {
       "output_type": "stream",
       "stream": "stdout",
       "text": [
        "Help on built-in function astype:\n",
        "\n",
        "astype(...)\n",
        "    a.astype(t)\n",
        "    \n",
        "    Copy of the array, cast to a specified type.\n",
        "    \n",
        "    Parameters\n",
        "    ----------\n",
        "    t : str or dtype\n",
        "        Typecode or data-type to which the array is cast.\n",
        "    \n",
        "    Raises\n",
        "    ------\n",
        "    ComplexWarning :\n",
        "        When casting from complex to float or int. To avoid this,\n",
        "        one should use ``a.real.astype(t)``.\n",
        "    \n",
        "    Examples\n",
        "    --------\n",
        "    >>> x = np.array([1, 2, 2.5])\n",
        "    >>> x\n",
        "    array([ 1. ,  2. ,  2.5])\n",
        "    \n",
        "    >>> x.astype(int)\n",
        "    array([1, 2, 2])\n",
        "\n"
       ]
      }
     ],
     "prompt_number": 4
    },
    {
     "cell_type": "code",
     "collapsed": false,
     "input": [
      "data = np.random.rand(2, 10) * 4 - 2\n",
      "data, data.dtype"
     ],
     "language": "python",
     "metadata": {},
     "outputs": [
      {
       "metadata": {},
       "output_type": "pyout",
       "prompt_number": 5,
       "text": [
        "(array([[-1.64534798, -0.85399745,  0.25974998, -0.23182607,  1.20712276,\n",
        "         -0.9740341 , -0.46131392,  1.94064881, -1.39787984, -1.63958848],\n",
        "        [-1.55935262,  1.79639615, -0.53130629, -0.3818776 , -1.94546546,\n",
        "          1.03889634, -0.53100045,  0.56958837, -0.91238457,  1.653529  ]]),\n",
        " dtype('float64'))"
       ]
      }
     ],
     "prompt_number": 5
    },
    {
     "cell_type": "code",
     "collapsed": false,
     "input": [
      "data.astype(np.int, casting='unsafe')"
     ],
     "language": "python",
     "metadata": {},
     "outputs": [
      {
       "ename": "TypeError",
       "evalue": "astype() takes no keyword arguments",
       "output_type": "pyerr",
       "traceback": [
        "\u001b[1;31m---------------------------------------------------------------------------\u001b[0m\n\u001b[1;31mTypeError\u001b[0m                                 Traceback (most recent call last)",
        "\u001b[1;32m<ipython-input-6-2efc2eb7a051>\u001b[0m in \u001b[0;36m<module>\u001b[1;34m()\u001b[0m\n\u001b[1;32m----> 1\u001b[1;33m \u001b[0mdata\u001b[0m\u001b[1;33m.\u001b[0m\u001b[0mastype\u001b[0m\u001b[1;33m(\u001b[0m\u001b[0mnp\u001b[0m\u001b[1;33m.\u001b[0m\u001b[0mint\u001b[0m\u001b[1;33m,\u001b[0m \u001b[0mcasting\u001b[0m\u001b[1;33m=\u001b[0m\u001b[1;34m'unsafe'\u001b[0m\u001b[1;33m)\u001b[0m\u001b[1;33m\u001b[0m\u001b[0m\n\u001b[0m",
        "\u001b[1;31mTypeError\u001b[0m: astype() takes no keyword arguments"
       ]
      }
     ],
     "prompt_number": 6
    },
    {
     "cell_type": "code",
     "collapsed": false,
     "input": [
      "data.astype(np.float16, casting='safe')"
     ],
     "language": "python",
     "metadata": {},
     "outputs": []
    },
    {
     "cell_type": "code",
     "collapsed": false,
     "input": [
      "data.astype(np.float16, casting='unsafe')"
     ],
     "language": "python",
     "metadata": {},
     "outputs": []
    },
    {
     "cell_type": "code",
     "collapsed": false,
     "input": [
      "data.astype(np.float32, casting='unsafe')"
     ],
     "language": "python",
     "metadata": {},
     "outputs": []
    },
    {
     "cell_type": "markdown",
     "metadata": {},
     "source": [
      "---\n",
      "<p align=\"center\">Tutorial: Einf\u00fchrung in NumPy von Henning Dickten und Christian Geier, PyCon.DE 2013</p>\n",
      "<p align=\"center\"><a rel=\"license\" href=\"http://creativecommons.org/licenses/by-nc-sa/3.0/deed.de\"><img alt=\"Creative Commons Lizenzvertrag\" style=\"border-width:0\" src=\"http://i.creativecommons.org/l/by-nc-sa/3.0/88x31.png\"/></a></p>\n",
      "\n",
      "<p align=\"center\">Dieses Werk bzw. Inhalt ist lizenziert unter einer <a rel=\"license\" href=\"http://creativecommons.org/licenses/by-nc-sa/3.0/deed.de\">Creative Commons Namensnennung - Nicht-kommerziell - Weitergabe unter gleichen Bedingungen 3.0 Unported Lizenz</a>.</p>\n",
      "\n"
     ]
    }
   ],
   "metadata": {}
  }
 ]
}