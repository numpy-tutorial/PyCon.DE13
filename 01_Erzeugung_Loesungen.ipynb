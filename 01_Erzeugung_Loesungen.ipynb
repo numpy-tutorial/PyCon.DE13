{
 "cells": [
  {
   "cell_type": "markdown",
   "metadata": {},
   "source": [
    "# Lösungen:\n",
    "\n",
    "* erzeuge ein array arr1 der Form [100, 80, ... , 0] und ein array arr2 mit 100 Elementen von 0.07 bis 42 exclusiv\n",
    "    - welcher Datentyp liegt jeweils vor?\n",
    "    - wie kann der Datentyp explizit gesetzt werden?"
   ]
  },
  {
   "cell_type": "code",
   "execution_count": 1,
   "metadata": {
    "collapsed": true
   },
   "outputs": [],
   "source": [
    "import numpy as np"
   ]
  },
  {
   "cell_type": "code",
   "execution_count": 2,
   "metadata": {
    "collapsed": false
   },
   "outputs": [
    {
     "name": "stdout",
     "output_type": "stream",
     "text": [
      "(array([100,  80,  60,  40,  20,   0]), dtype('int64'))\n",
      "(array([  0.07  ,   0.4893,   0.9086,   1.3279,   1.7472,   2.1665,\n",
      "         2.5858,   3.0051,   3.4244,   3.8437,   4.263 ,   4.6823,\n",
      "         5.1016,   5.5209,   5.9402,   6.3595,   6.7788,   7.1981,\n",
      "         7.6174,   8.0367,   8.456 ,   8.8753,   9.2946,   9.7139,\n",
      "        10.1332,  10.5525,  10.9718,  11.3911,  11.8104,  12.2297,\n",
      "        12.649 ,  13.0683,  13.4876,  13.9069,  14.3262,  14.7455,\n",
      "        15.1648,  15.5841,  16.0034,  16.4227,  16.842 ,  17.2613,\n",
      "        17.6806,  18.0999,  18.5192,  18.9385,  19.3578,  19.7771,\n",
      "        20.1964,  20.6157,  21.035 ,  21.4543,  21.8736,  22.2929,\n",
      "        22.7122,  23.1315,  23.5508,  23.9701,  24.3894,  24.8087,\n",
      "        25.228 ,  25.6473,  26.0666,  26.4859,  26.9052,  27.3245,\n",
      "        27.7438,  28.1631,  28.5824,  29.0017,  29.421 ,  29.8403,\n",
      "        30.2596,  30.6789,  31.0982,  31.5175,  31.9368,  32.3561,\n",
      "        32.7754,  33.1947,  33.614 ,  34.0333,  34.4526,  34.8719,\n",
      "        35.2912,  35.7105,  36.1298,  36.5491,  36.9684,  37.3877,\n",
      "        37.807 ,  38.2263,  38.6456,  39.0649,  39.4842,  39.9035,\n",
      "        40.3228,  40.7421,  41.1614,  41.5807]), dtype('float64'))\n",
      "(array([ 100.,   80.,   60.,   40.,   20.,    0.], dtype=float32), dtype('float32'))\n"
     ]
    }
   ],
   "source": [
    "arr1 = np.arange(100, -1, -20)\n",
    "print(arr1, arr1.dtype)\n",
    "\n",
    "arr2 = np.linspace(0.07, 42, num=100, endpoint=False)\n",
    "print(arr2, arr2.dtype)\n",
    "\n",
    "arr1 = np.arange(100, -1, -20, dtype=np.float32)\n",
    "print(arr1, arr1.dtype)"
   ]
  },
  {
   "cell_type": "markdown",
   "metadata": {},
   "source": [
    "* erzeuge ein leeres / mit \"0\" / mit \"1\" / mit \"47.11\" gefülltes array mit 10 x 20 x 30 Einträgen\n",
    "    - welche Methode ist schneller und warum?\n",
    "    - was gibt len(a) zurück?"
   ]
  },
  {
   "cell_type": "code",
   "execution_count": 3,
   "metadata": {
    "collapsed": false
   },
   "outputs": [
    {
     "name": "stdout",
     "output_type": "stream",
     "text": [
      "empty:\n",
      "100 loops, best of 3: 820 ns per loop\n",
      "\n",
      "zeros:\n",
      "100 loops, best of 3: 2.46 µs per loop\n",
      "\n",
      "ones:\n",
      "100 loops, best of 3: 5.85 µs per loop\n",
      "\n",
      "47.11:\n",
      "100 loops, best of 3: 13 µs per loop\n",
      "shape: (10, 20, 30), len: 10\n"
     ]
    }
   ],
   "source": [
    "print(\"empty:\")\n",
    "%timeit -n 100 np.empty(shape=(10, 20, 30))\n",
    "\n",
    "print(\"\\nzeros:\")\n",
    "%timeit -n 100 np.zeros(shape=(10, 20, 30))\n",
    "\n",
    "print(\"\\nones:\")\n",
    "%timeit -n 100 np.ones(shape=(10, 20, 30))\n",
    "\n",
    "print(\"\\n47.11:\")\n",
    "%timeit -n 100 np.ones(shape=(10, 20, 30)) * 47.11\n",
    "\n",
    "empty = np.empty(shape=(10, 20, 30))\n",
    "print(\"shape: {}, len: {}\".format(empty.shape, len(empty)))"
   ]
  },
  {
   "cell_type": "markdown",
   "metadata": {},
   "source": [
    "* erzeuge ein 5 x 5 array mit \"1\" auf der Nebendiagonale (np.eye)"
   ]
  },
  {
   "cell_type": "code",
   "execution_count": 4,
   "metadata": {
    "collapsed": false
   },
   "outputs": [
    {
     "data": {
      "text/plain": [
       "array([[ 0.,  1.,  0.,  0.,  0.],\n",
       "       [ 0.,  0.,  1.,  0.,  0.],\n",
       "       [ 0.,  0.,  0.,  1.,  0.],\n",
       "       [ 0.,  0.,  0.,  0.,  1.],\n",
       "       [ 0.,  0.,  0.,  0.,  0.]])"
      ]
     },
     "execution_count": 4,
     "metadata": {},
     "output_type": "execute_result"
    }
   ],
   "source": [
    "np.eye(5, 5, 1)"
   ]
  },
  {
   "cell_type": "markdown",
   "metadata": {},
   "source": [
    "* was bewirkt array.astype?"
   ]
  },
  {
   "cell_type": "code",
   "execution_count": 5,
   "metadata": {
    "collapsed": false
   },
   "outputs": [
    {
     "name": "stdout",
     "output_type": "stream",
     "text": [
      "Help on built-in function astype:\n",
      "\n",
      "astype(...)\n",
      "    a.astype(dtype, order='K', casting='unsafe', subok=True, copy=True)\n",
      "    \n",
      "    Copy of the array, cast to a specified type.\n",
      "    \n",
      "    Parameters\n",
      "    ----------\n",
      "    dtype : str or dtype\n",
      "        Typecode or data-type to which the array is cast.\n",
      "    order : {'C', 'F', 'A', 'K'}, optional\n",
      "        Controls the memory layout order of the result.\n",
      "        'C' means C order, 'F' means Fortran order, 'A'\n",
      "        means 'F' order if all the arrays are Fortran contiguous,\n",
      "        'C' order otherwise, and 'K' means as close to the\n",
      "        order the array elements appear in memory as possible.\n",
      "        Default is 'K'.\n",
      "    casting : {'no', 'equiv', 'safe', 'same_kind', 'unsafe'}, optional\n",
      "        Controls what kind of data casting may occur. Defaults to 'unsafe'\n",
      "        for backwards compatibility.\n",
      "    \n",
      "          * 'no' means the data types should not be cast at all.\n",
      "          * 'equiv' means only byte-order changes are allowed.\n",
      "          * 'safe' means only casts which can preserve values are allowed.\n",
      "          * 'same_kind' means only safe casts or casts within a kind,\n",
      "            like float64 to float32, are allowed.\n",
      "          * 'unsafe' means any data conversions may be done.\n",
      "    subok : bool, optional\n",
      "        If True, then sub-classes will be passed-through (default), otherwise\n",
      "        the returned array will be forced to be a base-class array.\n",
      "    copy : bool, optional\n",
      "        By default, astype always returns a newly allocated array. If this\n",
      "        is set to false, and the `dtype`, `order`, and `subok`\n",
      "        requirements are satisfied, the input array is returned instead\n",
      "        of a copy.\n",
      "    \n",
      "    Returns\n",
      "    -------\n",
      "    arr_t : ndarray\n",
      "        Unless `copy` is False and the other conditions for returning the input\n",
      "        array are satisfied (see description for `copy` input paramter), `arr_t`\n",
      "        is a new array of the same shape as the input array, with dtype, order\n",
      "        given by `dtype`, `order`.\n",
      "    \n",
      "    Notes\n",
      "    -----\n",
      "    Starting in NumPy 1.9, astype method now returns an error if the string\n",
      "    dtype to cast to is not long enough in 'safe' casting mode to hold the max\n",
      "    value of integer/float array that is being casted. Previously the casting\n",
      "    was allowed even if the result was truncated.\n",
      "    \n",
      "    Raises\n",
      "    ------\n",
      "    ComplexWarning\n",
      "        When casting from complex to float or int. To avoid this,\n",
      "        one should use ``a.real.astype(t)``.\n",
      "    \n",
      "    Examples\n",
      "    --------\n",
      "    >>> x = np.array([1, 2, 2.5])\n",
      "    >>> x\n",
      "    array([ 1. ,  2. ,  2.5])\n",
      "    \n",
      "    >>> x.astype(int)\n",
      "    array([1, 2, 2])\n",
      "\n"
     ]
    }
   ],
   "source": [
    "help(empty.astype)"
   ]
  },
  {
   "cell_type": "code",
   "execution_count": 6,
   "metadata": {
    "collapsed": false
   },
   "outputs": [
    {
     "data": {
      "text/plain": [
       "(array([[ 0.47187383,  1.09270138, -0.03052483, -1.46184529,  0.37046604,\n",
       "          1.95977672, -1.73296417,  0.65343266,  1.35358618, -1.30471387],\n",
       "        [ 0.84670716, -0.13735972, -1.96045696, -1.7969439 , -0.10118188,\n",
       "          1.74979303,  1.78755168, -1.67384172, -0.77462304, -1.19844754]]),\n",
       " dtype('float64'))"
      ]
     },
     "execution_count": 6,
     "metadata": {},
     "output_type": "execute_result"
    }
   ],
   "source": [
    "data = np.random.rand(2, 10) * 4 - 2\n",
    "data, data.dtype"
   ]
  },
  {
   "cell_type": "code",
   "execution_count": 7,
   "metadata": {
    "collapsed": false
   },
   "outputs": [
    {
     "data": {
      "text/plain": [
       "array([[ 0,  1,  0, -1,  0,  1, -1,  0,  1, -1],\n",
       "       [ 0,  0, -1, -1,  0,  1,  1, -1,  0, -1]])"
      ]
     },
     "execution_count": 7,
     "metadata": {},
     "output_type": "execute_result"
    }
   ],
   "source": [
    "data.astype(np.int, casting='unsafe')"
   ]
  },
  {
   "cell_type": "code",
   "execution_count": 8,
   "metadata": {
    "collapsed": false
   },
   "outputs": [
    {
     "ename": "TypeError",
     "evalue": "Cannot cast array from dtype('float64') to dtype('float16') according to the rule 'safe'",
     "output_type": "error",
     "traceback": [
      "\u001b[1;31m---------------------------------------------------------------------------\u001b[0m",
      "\u001b[1;31mTypeError\u001b[0m                                 Traceback (most recent call last)",
      "\u001b[1;32m<ipython-input-8-93ba4c39956d>\u001b[0m in \u001b[0;36m<module>\u001b[1;34m()\u001b[0m\n\u001b[1;32m----> 1\u001b[1;33m \u001b[0mdata\u001b[0m\u001b[1;33m.\u001b[0m\u001b[0mastype\u001b[0m\u001b[1;33m(\u001b[0m\u001b[0mnp\u001b[0m\u001b[1;33m.\u001b[0m\u001b[0mfloat16\u001b[0m\u001b[1;33m,\u001b[0m \u001b[0mcasting\u001b[0m\u001b[1;33m=\u001b[0m\u001b[1;34m'safe'\u001b[0m\u001b[1;33m)\u001b[0m\u001b[1;33m\u001b[0m\u001b[0m\n\u001b[0m",
      "\u001b[1;31mTypeError\u001b[0m: Cannot cast array from dtype('float64') to dtype('float16') according to the rule 'safe'"
     ]
    }
   ],
   "source": [
    "data.astype(np.float16, casting='safe')"
   ]
  },
  {
   "cell_type": "code",
   "execution_count": 9,
   "metadata": {
    "collapsed": false
   },
   "outputs": [
    {
     "data": {
      "text/plain": [
       "array([[ 0.47192383,  1.09277344, -0.03051758, -1.46191406,  0.37036133,\n",
       "         1.95996094, -1.73339844,  0.65332031,  1.35351562, -1.3046875 ],\n",
       "       [ 0.84667969, -0.1373291 , -1.9609375 , -1.796875  , -0.10119629,\n",
       "         1.75      ,  1.78710938, -1.67382812, -0.77441406, -1.19824219]], dtype=float16)"
      ]
     },
     "execution_count": 9,
     "metadata": {},
     "output_type": "execute_result"
    }
   ],
   "source": [
    "data.astype(np.float16, casting='unsafe')"
   ]
  },
  {
   "cell_type": "code",
   "execution_count": 10,
   "metadata": {
    "collapsed": false
   },
   "outputs": [
    {
     "data": {
      "text/plain": [
       "array([[ 0.47187382,  1.09270144, -0.03052483, -1.46184528,  0.37046605,\n",
       "         1.95977676, -1.73296416,  0.65343267,  1.3535862 , -1.30471385],\n",
       "       [ 0.84670717, -0.13735972, -1.96045697, -1.7969439 , -0.10118188,\n",
       "         1.74979305,  1.78755164, -1.67384171, -0.77462304, -1.19844759]], dtype=float32)"
      ]
     },
     "execution_count": 10,
     "metadata": {},
     "output_type": "execute_result"
    }
   ],
   "source": [
    "data.astype(np.float32, casting='unsafe')"
   ]
  },
  {
   "cell_type": "markdown",
   "metadata": {},
   "source": [
    "---\n",
    "<p align=\"center\">Tutorial: Einführung in NumPy von Henning Dickten und Christian Geier, PyCon.DE 2013</p>\n",
    "<p align=\"center\"><a rel=\"license\" href=\"http://creativecommons.org/licenses/by-nc-sa/3.0/deed.de\"><img alt=\"Creative Commons Lizenzvertrag\" style=\"border-width:0\" src=\"http://i.creativecommons.org/l/by-nc-sa/3.0/88x31.png\"/></a></p>\n",
    "\n",
    "<p align=\"center\">Dieses Werk bzw. Inhalt ist lizenziert unter einer <a rel=\"license\" href=\"http://creativecommons.org/licenses/by-nc-sa/3.0/deed.de\">Creative Commons Namensnennung - Nicht-kommerziell - Weitergabe unter gleichen Bedingungen 3.0 Unported Lizenz</a>.</p>\n",
    "\n"
   ]
  }
 ],
 "metadata": {
  "kernelspec": {
   "display_name": "Python 2",
   "language": "python",
   "name": "python2"
  },
  "language_info": {
   "codemirror_mode": {
    "name": "ipython",
    "version": 2
   },
   "file_extension": ".py",
   "mimetype": "text/x-python",
   "name": "python",
   "nbconvert_exporter": "python",
   "pygments_lexer": "ipython2",
   "version": "2.7.11"
  }
 },
 "nbformat": 4,
 "nbformat_minor": 0
}
