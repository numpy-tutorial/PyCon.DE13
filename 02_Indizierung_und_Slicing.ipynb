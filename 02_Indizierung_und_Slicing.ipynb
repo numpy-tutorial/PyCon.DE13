{
 "metadata": {
  "name": ""
 },
 "nbformat": 3,
 "nbformat_minor": 0,
 "worksheets": [
  {
   "cells": [
    {
     "cell_type": "markdown",
     "metadata": {},
     "source": [
      "# Indizierung und Slicing\n",
      "## Einfache Indizierung:\n",
      "\n",
      "![axis](files/files/axis.png)\n",
      "\n",
      "\n",
      "** Achtung FORTRAN/MATLAB\u00ae-User: Index ist 0-basiert! **"
     ]
    },
    {
     "cell_type": "code",
     "collapsed": false,
     "input": [
      "import numpy as np\n",
      "\n",
      "data = np.arange(1, 28).reshape(3, 3, 3)  # Mehr dazu im Kapitel \"reshaping\"\n",
      "\n",
      "green = data[1, 2, 2]  # entspricht data[1][2][2]\n",
      "print(green)\n",
      "\n",
      "# Alternativ:\n",
      "green = data[-2, -1, -1]  # Indizierung vom Ende her\n",
      "\n",
      "# Zuweisung:\n",
      "data[0, 1, 2] = 4711"
     ],
     "language": "python",
     "metadata": {
      "slideshow": {
       "slide_type": "-"
      }
     },
     "outputs": [
      {
       "output_type": "stream",
       "stream": "stdout",
       "text": [
        "18\n"
       ]
      }
     ],
     "prompt_number": 1
    },
    {
     "cell_type": "markdown",
     "metadata": {
      "slideshow": {
       "slide_type": "subslide"
      }
     },
     "source": [
      "##Indizierung mit `slices`\n",
      "![slice_1](files/files/slice_1.png \"slice_1\")\n",
      "![slice_2](files/files/slice_2.png \"slice_2\")\n",
      "![slice_3](files/files/slice_3.png \"slice_3\")\n",
      "![slice_5](files/files/slice_5.png \"slice_5\")"
     ]
    },
    {
     "cell_type": "code",
     "collapsed": false,
     "input": [
      "data = np.arange(1, 10).reshape(3, 3)  # Mehr dazu im Kapitel \"reshaping\"\n",
      "\n",
      "# W\u00e4hle zweite Zeile\n",
      "data[1, :]"
     ],
     "language": "python",
     "metadata": {
      "slideshow": {
       "slide_type": "-"
      }
     },
     "outputs": [
      {
       "metadata": {},
       "output_type": "pyout",
       "prompt_number": 2,
       "text": [
        "array([4, 5, 6])"
       ]
      }
     ],
     "prompt_number": 2
    },
    {
     "cell_type": "code",
     "collapsed": false,
     "input": [
      "# W\u00e4hle jede zweite Zeile, angefangen von 0 (\"\")\n",
      "data[::2]"
     ],
     "language": "python",
     "metadata": {
      "slideshow": {
       "slide_type": "fragment"
      }
     },
     "outputs": [
      {
       "metadata": {},
       "output_type": "pyout",
       "prompt_number": 3,
       "text": [
        "array([[1, 2, 3],\n",
        "       [7, 8, 9]])"
       ]
      }
     ],
     "prompt_number": 3
    },
    {
     "cell_type": "code",
     "collapsed": false,
     "input": [
      "# W\u00e4hle alles bis zur zweiten Zeile UND Spalte\n",
      "data[:2, :2]"
     ],
     "language": "python",
     "metadata": {
      "slideshow": {
       "slide_type": "fragment"
      }
     },
     "outputs": [
      {
       "metadata": {},
       "output_type": "pyout",
       "prompt_number": 4,
       "text": [
        "array([[1, 2],\n",
        "       [4, 5]])"
       ]
      }
     ],
     "prompt_number": 4
    },
    {
     "cell_type": "code",
     "collapsed": false,
     "input": [
      "# ACHTUNG!!! data[:2][:2] != data[:2, :2] !!!\n",
      "data[:2][:2]"
     ],
     "language": "python",
     "metadata": {},
     "outputs": [
      {
       "metadata": {},
       "output_type": "pyout",
       "prompt_number": 5,
       "text": [
        "array([[1, 2, 3],\n",
        "       [4, 5, 6]])"
       ]
      }
     ],
     "prompt_number": 5
    },
    {
     "cell_type": "code",
     "collapsed": false,
     "input": [
      "# Zuweisung via \"fancy indexing\":\n",
      "data[:, 1:] = 99\n",
      "data"
     ],
     "language": "python",
     "metadata": {},
     "outputs": [
      {
       "metadata": {},
       "output_type": "pyout",
       "prompt_number": 6,
       "text": [
        "array([[ 1, 99, 99],\n",
        "       [ 4, 99, 99],\n",
        "       [ 7, 99, 99]])"
       ]
      }
     ],
     "prompt_number": 6
    },
    {
     "cell_type": "markdown",
     "metadata": {
      "slideshow": {
       "slide_type": "subslide"
      }
     },
     "source": [
      "## Advanced slicing\n",
      "![slice_6](files/files/slice_6.png \"slice_6\")"
     ]
    },
    {
     "cell_type": "code",
     "collapsed": false,
     "input": [
      "data = np.array([[1, 2, 5], [5, 4, 7], [3, 9, 2]])"
     ],
     "language": "python",
     "metadata": {
      "slideshow": {
       "slide_type": "skip"
      }
     },
     "outputs": [],
     "prompt_number": 7
    },
    {
     "cell_type": "code",
     "collapsed": false,
     "input": [
      "# W\u00e4hle Eintr\u00e4ge, die gr\u00f6\u00dfer als 4 sind:\n",
      "data[data > 4]"
     ],
     "language": "python",
     "metadata": {
      "slideshow": {
       "slide_type": "-"
      }
     },
     "outputs": [
      {
       "metadata": {},
       "output_type": "pyout",
       "prompt_number": 8,
       "text": [
        "array([5, 5, 7, 9])"
       ]
      }
     ],
     "prompt_number": 8
    },
    {
     "cell_type": "code",
     "collapsed": false,
     "input": [
      "# Was passiert \"unter der Haube\"?\n",
      "data > 4"
     ],
     "language": "python",
     "metadata": {
      "slideshow": {
       "slide_type": "fragment"
      }
     },
     "outputs": [
      {
       "metadata": {},
       "output_type": "pyout",
       "prompt_number": 9,
       "text": [
        "array([[False, False,  True],\n",
        "       [ True, False,  True],\n",
        "       [False,  True, False]], dtype=bool)"
       ]
      }
     ],
     "prompt_number": 9
    },
    {
     "cell_type": "code",
     "collapsed": false,
     "input": [
      "# Indizes, an denen die Bedingung \"data > 4\" zutrifft:\n",
      "np.where(data > 4)"
     ],
     "language": "python",
     "metadata": {
      "slideshow": {
       "slide_type": "fragment"
      }
     },
     "outputs": [
      {
       "metadata": {},
       "output_type": "pyout",
       "prompt_number": 10,
       "text": [
        "(array([0, 1, 1, 2]), array([2, 0, 2, 1]))"
       ]
      }
     ],
     "prompt_number": 10
    },
    {
     "cell_type": "code",
     "collapsed": false,
     "input": [
      "# W\u00e4hle Diagonalelemente\n",
      "data.diagonal()"
     ],
     "language": "python",
     "metadata": {
      "slideshow": {
       "slide_type": "fragment"
      }
     },
     "outputs": [
      {
       "metadata": {},
       "output_type": "pyout",
       "prompt_number": 11,
       "text": [
        "array([1, 4, 2])"
       ]
      }
     ],
     "prompt_number": 11
    },
    {
     "cell_type": "markdown",
     "metadata": {
      "slideshow": {
       "slide_type": "subslide"
      }
     },
     "source": [
      "## Indizierung mittels Listen / arrays"
     ]
    },
    {
     "cell_type": "code",
     "collapsed": false,
     "input": [
      "# Indizierung mittels einer Liste von Indizes:\n",
      "data = (np.ones(shape=(4, 7)) * np.arange(0, 7)).T\n",
      "print(\"data:\\n{}\\n\".format(data))\n",
      "\n",
      "neu = data[[3, 3, 0, 1]]\n",
      "print(\"neu:\\n{}\\n\".format(neu))"
     ],
     "language": "python",
     "metadata": {
      "slideshow": {
       "slide_type": "-"
      }
     },
     "outputs": [
      {
       "output_type": "stream",
       "stream": "stdout",
       "text": [
        "data:\n",
        "[[ 0.  0.  0.  0.]\n",
        " [ 1.  1.  1.  1.]\n",
        " [ 2.  2.  2.  2.]\n",
        " [ 3.  3.  3.  3.]\n",
        " [ 4.  4.  4.  4.]\n",
        " [ 5.  5.  5.  5.]\n",
        " [ 6.  6.  6.  6.]]\n",
        "\n",
        "neu:\n",
        "[[ 3.  3.  3.  3.]\n",
        " [ 3.  3.  3.  3.]\n",
        " [ 0.  0.  0.  0.]\n",
        " [ 1.  1.  1.  1.]]\n",
        "\n"
       ]
      }
     ],
     "prompt_number": 12
    },
    {
     "cell_type": "markdown",
     "metadata": {},
     "source": [
      "# \u00dcbungen\n",
      "* Erzeuge ein 8 x 8 Schachbrett mit 1 und 0"
     ]
    },
    {
     "cell_type": "code",
     "collapsed": false,
     "input": [],
     "language": "python",
     "metadata": {},
     "outputs": [],
     "prompt_number": 12
    },
    {
     "cell_type": "markdown",
     "metadata": {},
     "source": [
      "- W\u00e4hle die farblich markierten Elemente  \n",
      "![slice_7](files/files/slice_7.png \"slice_7\")  "
     ]
    },
    {
     "cell_type": "code",
     "collapsed": false,
     "input": [
      "data = np.arange(1, 26).reshape(5, 5)\n",
      "data"
     ],
     "language": "python",
     "metadata": {},
     "outputs": [
      {
       "metadata": {},
       "output_type": "pyout",
       "prompt_number": 13,
       "text": [
        "array([[ 1,  2,  3,  4,  5],\n",
        "       [ 6,  7,  8,  9, 10],\n",
        "       [11, 12, 13, 14, 15],\n",
        "       [16, 17, 18, 19, 20],\n",
        "       [21, 22, 23, 24, 25]])"
       ]
      }
     ],
     "prompt_number": 13
    },
    {
     "cell_type": "code",
     "collapsed": false,
     "input": [
      "yellow = None\n",
      "print(\"yellow:\\n{}\".format(yellow))\n",
      "\n",
      "green = None\n",
      "print(\"\\ngreen:\\n{}\".format(green))\n",
      "\n",
      "blue = None\n",
      "print(\"\\nblue:\\n{}\".format(blue))"
     ],
     "language": "python",
     "metadata": {},
     "outputs": [
      {
       "output_type": "stream",
       "stream": "stdout",
       "text": [
        "yellow:\n",
        "None\n",
        "\n",
        "green:\n",
        "None\n",
        "\n",
        "blue:\n",
        "None\n"
       ]
      }
     ],
     "prompt_number": 14
    },
    {
     "cell_type": "markdown",
     "metadata": {},
     "source": [
      "- Setze die Diagonalelemente (gelb) auf 42 (indices\\_from_...)"
     ]
    },
    {
     "cell_type": "code",
     "collapsed": false,
     "input": [],
     "language": "python",
     "metadata": {},
     "outputs": [],
     "prompt_number": 14
    },
    {
     "cell_type": "markdown",
     "metadata": {},
     "source": [
      "- W\u00e4hle alle Elemente, die durch 7 teilbar UND ungerade sind  "
     ]
    },
    {
     "cell_type": "code",
     "collapsed": false,
     "input": [
      "arr = np.arange(100)"
     ],
     "language": "python",
     "metadata": {},
     "outputs": [],
     "prompt_number": 15
    },
    {
     "cell_type": "code",
     "collapsed": false,
     "input": [],
     "language": "python",
     "metadata": {},
     "outputs": [],
     "prompt_number": 15
    },
    {
     "cell_type": "markdown",
     "metadata": {},
     "source": [
      "- W\u00e4hle alle Elemente aus arr1 bei die entsprechenden Eintr\u00e4ge in arr2 gr\u00f6\u00dfer als 2 sind  "
     ]
    },
    {
     "cell_type": "code",
     "collapsed": false,
     "input": [
      "arr1 = np.random.randint(0, 10, 10)  \n",
      "arr2 = np.random.randint(0, 10, 10)\n",
      "\n",
      "print(\"arr1:\\n  {}\\narr2:\\n  {}\".format(arr1, arr2))"
     ],
     "language": "python",
     "metadata": {},
     "outputs": [
      {
       "output_type": "stream",
       "stream": "stdout",
       "text": [
        "arr1:\n",
        "  [6 6 1 4 7 7 5 8 4 8]\n",
        "arr2:\n",
        "  [2 0 4 2 8 9 8 4 1 4]\n"
       ]
      }
     ],
     "prompt_number": 16
    },
    {
     "cell_type": "code",
     "collapsed": false,
     "input": [],
     "language": "python",
     "metadata": {},
     "outputs": [],
     "prompt_number": 16
    },
    {
     "cell_type": "markdown",
     "metadata": {},
     "source": [
      "Erzeuge ein 8 x 8 int-array mit 1 auf der Diagonale, 3 auf der 2. Nebendiagonale und 9 in der unteren Dreiecksmatrix  \n",
      "Tip: np.diag_indices_from, np.eye und np.tril"
     ]
    },
    {
     "cell_type": "code",
     "collapsed": false,
     "input": [],
     "language": "python",
     "metadata": {},
     "outputs": [],
     "prompt_number": 16
    },
    {
     "cell_type": "markdown",
     "metadata": {},
     "source": [
      "---\n",
      "<p align=\"center\">Tutorial: Einf\u00fchrung in NumPy von Henning Dickten und Christian Geier, PyCon.DE 2013</p>\n",
      "<p align=\"center\"><a rel=\"license\" href=\"http://creativecommons.org/licenses/by-nc-sa/3.0/deed.de\"><img alt=\"Creative Commons Lizenzvertrag\" style=\"border-width:0\" src=\"http://i.creativecommons.org/l/by-nc-sa/3.0/88x31.png\"/></a></p>\n",
      "\n",
      "<p align=\"center\">Dieses Werk bzw. Inhalt ist lizenziert unter einer <a rel=\"license\" href=\"http://creativecommons.org/licenses/by-nc-sa/3.0/deed.de\">Creative Commons Namensnennung - Nicht-kommerziell - Weitergabe unter gleichen Bedingungen 3.0 Unported Lizenz</a>.</p>\n",
      "\n"
     ]
    }
   ],
   "metadata": {}
  }
 ]
}
