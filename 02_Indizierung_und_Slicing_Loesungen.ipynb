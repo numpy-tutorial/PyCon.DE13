{
 "metadata": {
  "name": ""
 },
 "nbformat": 3,
 "nbformat_minor": 0,
 "worksheets": [
  {
   "cells": [
    {
     "cell_type": "markdown",
     "metadata": {},
     "source": [
      "# L\u00f6sungen:\n",
      "* Erzeuge ein 8 x 8 Schachbrett mit 1 und 0"
     ]
    },
    {
     "cell_type": "code",
     "collapsed": false,
     "input": [
      "chess = np.zeros(shape=(8, 8), dtype=int)\n",
      "chess[1::2, ::2] = 1\n",
      "chess[::2, 1::2] = 1\n",
      "print(chess)"
     ],
     "language": "python",
     "metadata": {},
     "outputs": [
      {
       "output_type": "stream",
       "stream": "stdout",
       "text": [
        "[[0 1 0 1 0 1 0 1]\n",
        " [1 0 1 0 1 0 1 0]\n",
        " [0 1 0 1 0 1 0 1]\n",
        " [1 0 1 0 1 0 1 0]\n",
        " [0 1 0 1 0 1 0 1]\n",
        " [1 0 1 0 1 0 1 0]\n",
        " [0 1 0 1 0 1 0 1]\n",
        " [1 0 1 0 1 0 1 0]]\n"
       ]
      }
     ],
     "prompt_number": 1
    },
    {
     "cell_type": "markdown",
     "metadata": {},
     "source": [
      "- W\u00e4hle die farblich markierten Elemente  \n",
      "![slice_7](files/files/slice_7.png \"slice_7\")"
     ]
    },
    {
     "cell_type": "code",
     "collapsed": false,
     "input": [
      "data = np.arange(1, 26).reshape(5, 5)\n",
      "data"
     ],
     "language": "python",
     "metadata": {},
     "outputs": [
      {
       "metadata": {},
       "output_type": "pyout",
       "prompt_number": 2,
       "text": [
        "array([[ 1,  2,  3,  4,  5],\n",
        "       [ 6,  7,  8,  9, 10],\n",
        "       [11, 12, 13, 14, 15],\n",
        "       [16, 17, 18, 19, 20],\n",
        "       [21, 22, 23, 24, 25]])"
       ]
      }
     ],
     "prompt_number": 2
    },
    {
     "cell_type": "code",
     "collapsed": false,
     "input": [
      "yellow = np.diag(data)\n",
      "print(\"yellow:\\n{}\".format(yellow))\n",
      "\n",
      "green = data[1::3]\n",
      "print(\"\\ngreen:\\n{}\".format(green))\n",
      "\n",
      "blue = data[2:4, 1:3]\n",
      "print(\"\\nblue:\\n{}\".format(blue))"
     ],
     "language": "python",
     "metadata": {},
     "outputs": [
      {
       "output_type": "stream",
       "stream": "stdout",
       "text": [
        "yellow:\n",
        "[ 1  7 13 19 25]\n",
        "\n",
        "green:\n",
        "[[ 6  7  8  9 10]\n",
        " [21 22 23 24 25]]\n",
        "\n",
        "blue:\n",
        "[[12 13]\n",
        " [17 18]]\n"
       ]
      }
     ],
     "prompt_number": 3
    },
    {
     "cell_type": "markdown",
     "metadata": {},
     "source": [
      "- Setze die Diagonalelemente (gelb) auf 42"
     ]
    },
    {
     "cell_type": "code",
     "collapsed": false,
     "input": [
      "data[np.diag_indices_from(data)] = 42\n",
      "data"
     ],
     "language": "python",
     "metadata": {},
     "outputs": [
      {
       "metadata": {},
       "output_type": "pyout",
       "prompt_number": 4,
       "text": [
        "array([[42,  2,  3,  4,  5],\n",
        "       [ 6, 42,  8,  9, 10],\n",
        "       [11, 12, 42, 14, 15],\n",
        "       [16, 17, 18, 42, 20],\n",
        "       [21, 22, 23, 24, 42]])"
       ]
      }
     ],
     "prompt_number": 4
    },
    {
     "cell_type": "markdown",
     "metadata": {},
     "source": [
      "- W\u00e4hle alle Elemente, die durch 7 teilbar UND ungerade sind  "
     ]
    },
    {
     "cell_type": "code",
     "collapsed": false,
     "input": [
      "arr = np.arange(100)"
     ],
     "language": "python",
     "metadata": {},
     "outputs": [],
     "prompt_number": 5
    },
    {
     "cell_type": "code",
     "collapsed": false,
     "input": [
      "arr[(arr % 7 == 0) & (arr % 2 == 1)]"
     ],
     "language": "python",
     "metadata": {},
     "outputs": [
      {
       "metadata": {},
       "output_type": "pyout",
       "prompt_number": 6,
       "text": [
        "array([ 7, 21, 35, 49, 63, 77, 91])"
       ]
      }
     ],
     "prompt_number": 6
    },
    {
     "cell_type": "markdown",
     "metadata": {},
     "source": [
      "- W\u00e4hle alle Elemente aus arr1 bei die entsprechenden Eintr\u00e4ge in arr2 gr\u00f6\u00dfer als 2 sind  "
     ]
    },
    {
     "cell_type": "code",
     "collapsed": false,
     "input": [
      "arr1 = (np.random.rand(10) * 10).astype(int)  \n",
      "arr2 = (np.random.rand(10) * 10).astype(int)\n",
      "\n",
      "print(\"arr1:\\n  {}\\narr2:\\n  {}\".format(arr1, arr2))"
     ],
     "language": "python",
     "metadata": {},
     "outputs": [
      {
       "output_type": "stream",
       "stream": "stdout",
       "text": [
        "arr1:\n",
        "  [9 2 9 8 6 7 1 0 7 0]\n",
        "arr2:\n",
        "  [9 1 4 6 3 7 9 5 2 4]\n"
       ]
      }
     ],
     "prompt_number": 7
    },
    {
     "cell_type": "code",
     "collapsed": false,
     "input": [
      "arr1[arr2 > 2]"
     ],
     "language": "python",
     "metadata": {},
     "outputs": [
      {
       "metadata": {},
       "output_type": "pyout",
       "prompt_number": 8,
       "text": [
        "array([9, 9, 8, 6, 7, 1, 0, 0])"
       ]
      }
     ],
     "prompt_number": 8
    },
    {
     "cell_type": "markdown",
     "metadata": {},
     "source": [
      "Erzeuge ein 8 x 8 int-array mit 1 auf der Diagonale, 3 auf der 2. Nebendiagonale und 9 in der unteren Dreiecksmatrix  \n",
      "Tip: np.diag_indices_from, np.eye und np.tril"
     ]
    },
    {
     "cell_type": "code",
     "collapsed": false,
     "input": [
      "# Diagonalelemente setzen:\n",
      "data = np.zeros((8, 8), dtype=int)\n",
      "\n",
      "data[np.diag_indices_from(data)] = 1\n",
      "data"
     ],
     "language": "python",
     "metadata": {},
     "outputs": [
      {
       "metadata": {},
       "output_type": "pyout",
       "prompt_number": 9,
       "text": [
        "array([[1, 0, 0, 0, 0, 0, 0, 0],\n",
        "       [0, 1, 0, 0, 0, 0, 0, 0],\n",
        "       [0, 0, 1, 0, 0, 0, 0, 0],\n",
        "       [0, 0, 0, 1, 0, 0, 0, 0],\n",
        "       [0, 0, 0, 0, 1, 0, 0, 0],\n",
        "       [0, 0, 0, 0, 0, 1, 0, 0],\n",
        "       [0, 0, 0, 0, 0, 0, 1, 0],\n",
        "       [0, 0, 0, 0, 0, 0, 0, 1]])"
       ]
      }
     ],
     "prompt_number": 9
    },
    {
     "cell_type": "code",
     "collapsed": false,
     "input": [
      "# 2. Nebendiagonale\n",
      "data[np.eye(8, 8, 2) == 1] = 3\n",
      "data"
     ],
     "language": "python",
     "metadata": {},
     "outputs": [
      {
       "metadata": {},
       "output_type": "pyout",
       "prompt_number": 10,
       "text": [
        "array([[1, 0, 3, 0, 0, 0, 0, 0],\n",
        "       [0, 1, 0, 3, 0, 0, 0, 0],\n",
        "       [0, 0, 1, 0, 3, 0, 0, 0],\n",
        "       [0, 0, 0, 1, 0, 3, 0, 0],\n",
        "       [0, 0, 0, 0, 1, 0, 3, 0],\n",
        "       [0, 0, 0, 0, 0, 1, 0, 3],\n",
        "       [0, 0, 0, 0, 0, 0, 1, 0],\n",
        "       [0, 0, 0, 0, 0, 0, 0, 1]])"
       ]
      }
     ],
     "prompt_number": 10
    },
    {
     "cell_type": "code",
     "collapsed": false,
     "input": [
      "# untere dreiecksmatrix:\n",
      "data[np.tril_indices_from(data, -1)] = 9\n",
      "data"
     ],
     "language": "python",
     "metadata": {},
     "outputs": [
      {
       "cell_type": "markdown",
       "metadata": {},
       "source": [
        "---\n",
        "<p align=\"center\">Tutorial: Einf\u00fchrung in NumPy von Henning Dickten und Christian Geier, PyCon.DE 2013</p>\n",
        "<p align=\"center\"><a rel=\"license\" href=\"http://creativecommons.org/licenses/by-nc-sa/3.0/deed.de\"><img alt=\"Creative Commons Lizenzvertrag\" style=\"border-width:0\" src=\"http://i.creativecommons.org/l/by-nc-sa/3.0/88x31.png\"/></a></p>\n",
        "\n",
        "<p align=\"center\">Dieses Werk bzw. Inhalt ist lizenziert unter einer <a rel=\"license\" href=\"http://creativecommons.org/licenses/by-nc-sa/3.0/deed.de\">Creative Commons Namensnennung - Nicht-kommerziell - Weitergabe unter gleichen Bedingungen 3.0 Unported Lizenz</a>.</p>\n",
        "\n"
       ]
      },
      {
       "metadata": {},
       "output_type": "pyout",
       "prompt_number": 11,
       "text": [
        "array([[1, 0, 3, 0, 0, 0, 0, 0],\n",
        "       [9, 1, 0, 3, 0, 0, 0, 0],\n",
        "       [9, 9, 1, 0, 3, 0, 0, 0],\n",
        "       [9, 9, 9, 1, 0, 3, 0, 0],\n",
        "       [9, 9, 9, 9, 1, 0, 3, 0],\n",
        "       [9, 9, 9, 9, 9, 1, 0, 3],\n",
        "       [9, 9, 9, 9, 9, 9, 1, 0],\n",
        "       [9, 9, 9, 9, 9, 9, 9, 1]])"
       ]
      }
     ],
     "prompt_number": 11
    },
    {
     "cell_type": "markdown",
     "metadata": {},
     "source": [
      "---\n",
      "<p align=\"center\">Tutorial: Einf\u00fchrung in NumPy von Henning Dickten und Christian Geier, PyCon.DE 2013</p>\n",
      "<p align=\"center\"><a rel=\"license\" href=\"http://creativecommons.org/licenses/by-nc-sa/3.0/deed.de\"><img alt=\"Creative Commons Lizenzvertrag\" style=\"border-width:0\" src=\"http://i.creativecommons.org/l/by-nc-sa/3.0/88x31.png\"/></a></p>\n",
      "\n",
      "<p align=\"center\">Dieses Werk bzw. Inhalt ist lizenziert unter einer <a rel=\"license\" href=\"http://creativecommons.org/licenses/by-nc-sa/3.0/deed.de\">Creative Commons Namensnennung - Nicht-kommerziell - Weitergabe unter gleichen Bedingungen 3.0 Unported Lizenz</a>.</p>"
     ]
    }
   ],
   "metadata": {}
  }
 ]
}
