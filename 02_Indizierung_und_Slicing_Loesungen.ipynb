{
 "cells": [
  {
   "cell_type": "markdown",
   "metadata": {},
   "source": [
    "# Lösungen:\n",
    "* Erzeuge ein 8 x 8 Schachbrett mit 1 und 0"
   ]
  },
  {
   "cell_type": "code",
   "execution_count": 1,
   "metadata": {
    "collapsed": true
   },
   "outputs": [],
   "source": [
    "import numpy as np"
   ]
  },
  {
   "cell_type": "code",
   "execution_count": 2,
   "metadata": {
    "collapsed": false
   },
   "outputs": [
    {
     "name": "stdout",
     "output_type": "stream",
     "text": [
      "[[0 1 0 1 0 1 0 1]\n",
      " [1 0 1 0 1 0 1 0]\n",
      " [0 1 0 1 0 1 0 1]\n",
      " [1 0 1 0 1 0 1 0]\n",
      " [0 1 0 1 0 1 0 1]\n",
      " [1 0 1 0 1 0 1 0]\n",
      " [0 1 0 1 0 1 0 1]\n",
      " [1 0 1 0 1 0 1 0]]\n"
     ]
    }
   ],
   "source": [
    "chess = np.zeros(shape=(8, 8), dtype=int)\n",
    "chess[1::2, ::2] = 1\n",
    "chess[::2, 1::2] = 1\n",
    "print(chess)"
   ]
  },
  {
   "cell_type": "markdown",
   "metadata": {},
   "source": [
    "- Wähle die farblich markierten Elemente  \n",
    "![slice_7](files/files/slice_7.png \"slice_7\")"
   ]
  },
  {
   "cell_type": "code",
   "execution_count": 3,
   "metadata": {
    "collapsed": false
   },
   "outputs": [
    {
     "data": {
      "text/plain": [
       "array([[ 1,  2,  3,  4,  5],\n",
       "       [ 6,  7,  8,  9, 10],\n",
       "       [11, 12, 13, 14, 15],\n",
       "       [16, 17, 18, 19, 20],\n",
       "       [21, 22, 23, 24, 25]])"
      ]
     },
     "execution_count": 3,
     "metadata": {},
     "output_type": "execute_result"
    }
   ],
   "source": [
    "data = np.arange(1, 26).reshape(5, 5)\n",
    "data"
   ]
  },
  {
   "cell_type": "code",
   "execution_count": 4,
   "metadata": {
    "collapsed": false
   },
   "outputs": [
    {
     "name": "stdout",
     "output_type": "stream",
     "text": [
      "yellow:\n",
      "[ 1  7 13 19 25]\n",
      "\n",
      "green:\n",
      "[[ 6  7  8  9 10]\n",
      " [21 22 23 24 25]]\n",
      "\n",
      "blue:\n",
      "[[12 13]\n",
      " [17 18]]\n"
     ]
    }
   ],
   "source": [
    "yellow = np.diag(data)\n",
    "print(\"yellow:\\n{}\".format(yellow))\n",
    "\n",
    "green = data[1::3]\n",
    "print(\"\\ngreen:\\n{}\".format(green))\n",
    "\n",
    "blue = data[2:4, 1:3]\n",
    "print(\"\\nblue:\\n{}\".format(blue))"
   ]
  },
  {
   "cell_type": "markdown",
   "metadata": {},
   "source": [
    "- Setze die Diagonalelemente (gelb) auf 42"
   ]
  },
  {
   "cell_type": "code",
   "execution_count": 5,
   "metadata": {
    "collapsed": false
   },
   "outputs": [
    {
     "data": {
      "text/plain": [
       "array([[42,  2,  3,  4,  5],\n",
       "       [ 6, 42,  8,  9, 10],\n",
       "       [11, 12, 42, 14, 15],\n",
       "       [16, 17, 18, 42, 20],\n",
       "       [21, 22, 23, 24, 42]])"
      ]
     },
     "execution_count": 5,
     "metadata": {},
     "output_type": "execute_result"
    }
   ],
   "source": [
    "data[np.diag_indices_from(data)] = 42\n",
    "data"
   ]
  },
  {
   "cell_type": "markdown",
   "metadata": {},
   "source": [
    "- Wähle alle Elemente, die durch 7 teilbar UND ungerade sind  "
   ]
  },
  {
   "cell_type": "code",
   "execution_count": 6,
   "metadata": {
    "collapsed": false
   },
   "outputs": [],
   "source": [
    "arr = np.arange(100)"
   ]
  },
  {
   "cell_type": "code",
   "execution_count": 7,
   "metadata": {
    "collapsed": false
   },
   "outputs": [
    {
     "data": {
      "text/plain": [
       "array([ 7, 21, 35, 49, 63, 77, 91])"
      ]
     },
     "execution_count": 7,
     "metadata": {},
     "output_type": "execute_result"
    }
   ],
   "source": [
    "arr[(arr % 7 == 0) & (arr % 2 == 1)]"
   ]
  },
  {
   "cell_type": "markdown",
   "metadata": {},
   "source": [
    "- Wähle alle Elemente aus arr1 bei die entsprechenden Einträge in arr2 größer als 2 sind  "
   ]
  },
  {
   "cell_type": "code",
   "execution_count": 8,
   "metadata": {
    "collapsed": false
   },
   "outputs": [
    {
     "name": "stdout",
     "output_type": "stream",
     "text": [
      "arr1:\n",
      "  [9 3 0 6 7 2 5 8 2 0]\n",
      "arr2:\n",
      "  [0 9 5 3 0 1 4 1 6 1]\n"
     ]
    }
   ],
   "source": [
    "arr1 = (np.random.rand(10) * 10).astype(int)  \n",
    "arr2 = (np.random.rand(10) * 10).astype(int)\n",
    "\n",
    "print(\"arr1:\\n  {}\\narr2:\\n  {}\".format(arr1, arr2))"
   ]
  },
  {
   "cell_type": "code",
   "execution_count": 9,
   "metadata": {
    "collapsed": false
   },
   "outputs": [
    {
     "data": {
      "text/plain": [
       "array([3, 0, 6, 5, 2])"
      ]
     },
     "execution_count": 9,
     "metadata": {},
     "output_type": "execute_result"
    }
   ],
   "source": [
    "arr1[arr2 > 2]"
   ]
  },
  {
   "cell_type": "markdown",
   "metadata": {},
   "source": [
    "Erzeuge ein 8 x 8 int-array mit 1 auf der Diagonale, 3 auf der 2. Nebendiagonale und 9 in der unteren Dreiecksmatrix  \n",
    "Tip: np.diag_indices_from, np.eye und np.tril"
   ]
  },
  {
   "cell_type": "code",
   "execution_count": 10,
   "metadata": {
    "collapsed": false
   },
   "outputs": [
    {
     "data": {
      "text/plain": [
       "array([[1, 0, 0, 0, 0, 0, 0, 0],\n",
       "       [0, 1, 0, 0, 0, 0, 0, 0],\n",
       "       [0, 0, 1, 0, 0, 0, 0, 0],\n",
       "       [0, 0, 0, 1, 0, 0, 0, 0],\n",
       "       [0, 0, 0, 0, 1, 0, 0, 0],\n",
       "       [0, 0, 0, 0, 0, 1, 0, 0],\n",
       "       [0, 0, 0, 0, 0, 0, 1, 0],\n",
       "       [0, 0, 0, 0, 0, 0, 0, 1]])"
      ]
     },
     "execution_count": 10,
     "metadata": {},
     "output_type": "execute_result"
    }
   ],
   "source": [
    "# Diagonalelemente setzen:\n",
    "data = np.zeros((8, 8), dtype=int)\n",
    "\n",
    "data[np.diag_indices_from(data)] = 1\n",
    "data"
   ]
  },
  {
   "cell_type": "code",
   "execution_count": 11,
   "metadata": {
    "collapsed": false
   },
   "outputs": [
    {
     "data": {
      "text/plain": [
       "array([[1, 0, 3, 0, 0, 0, 0, 0],\n",
       "       [0, 1, 0, 3, 0, 0, 0, 0],\n",
       "       [0, 0, 1, 0, 3, 0, 0, 0],\n",
       "       [0, 0, 0, 1, 0, 3, 0, 0],\n",
       "       [0, 0, 0, 0, 1, 0, 3, 0],\n",
       "       [0, 0, 0, 0, 0, 1, 0, 3],\n",
       "       [0, 0, 0, 0, 0, 0, 1, 0],\n",
       "       [0, 0, 0, 0, 0, 0, 0, 1]])"
      ]
     },
     "execution_count": 11,
     "metadata": {},
     "output_type": "execute_result"
    }
   ],
   "source": [
    "# 2. Nebendiagonale\n",
    "data[np.eye(8, 8, 2) == 1] = 3\n",
    "data"
   ]
  },
  {
   "cell_type": "code",
   "execution_count": 12,
   "metadata": {
    "collapsed": false
   },
   "outputs": [
    {
     "data": {
      "text/plain": [
       "array([[1, 0, 3, 0, 0, 0, 0, 0],\n",
       "       [9, 1, 0, 3, 0, 0, 0, 0],\n",
       "       [9, 9, 1, 0, 3, 0, 0, 0],\n",
       "       [9, 9, 9, 1, 0, 3, 0, 0],\n",
       "       [9, 9, 9, 9, 1, 0, 3, 0],\n",
       "       [9, 9, 9, 9, 9, 1, 0, 3],\n",
       "       [9, 9, 9, 9, 9, 9, 1, 0],\n",
       "       [9, 9, 9, 9, 9, 9, 9, 1]])"
      ]
     },
     "execution_count": 12,
     "metadata": {},
     "output_type": "execute_result"
    }
   ],
   "source": [
    "# untere dreiecksmatrix:\n",
    "data[np.tril_indices_from(data, -1)] = 9\n",
    "data"
   ]
  },
  {
   "cell_type": "markdown",
   "metadata": {},
   "source": [
    "---\n",
    "<p align=\"center\">Tutorial: Einführung in NumPy von Henning Dickten und Christian Geier, PyCon.DE 2013</p>\n",
    "<p align=\"center\"><a rel=\"license\" href=\"http://creativecommons.org/licenses/by-nc-sa/3.0/deed.de\"><img alt=\"Creative Commons Lizenzvertrag\" style=\"border-width:0\" src=\"http://i.creativecommons.org/l/by-nc-sa/3.0/88x31.png\"/></a></p>\n",
    "\n",
    "<p align=\"center\">Dieses Werk bzw. Inhalt ist lizenziert unter einer <a rel=\"license\" href=\"http://creativecommons.org/licenses/by-nc-sa/3.0/deed.de\">Creative Commons Namensnennung - Nicht-kommerziell - Weitergabe unter gleichen Bedingungen 3.0 Unported Lizenz</a>.</p>\n",
    "\n"
   ]
  }
 ],
 "metadata": {
  "kernelspec": {
   "display_name": "Python 2",
   "language": "python",
   "name": "python2"
  },
  "language_info": {
   "codemirror_mode": {
    "name": "ipython",
    "version": 2
   },
   "file_extension": ".py",
   "mimetype": "text/x-python",
   "name": "python",
   "nbconvert_exporter": "python",
   "pygments_lexer": "ipython2",
   "version": "2.7.11"
  }
 },
 "nbformat": 4,
 "nbformat_minor": 0
}
