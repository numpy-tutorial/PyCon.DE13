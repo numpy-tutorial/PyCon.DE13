{
 "metadata": {
  "name": ""
 },
 "nbformat": 3,
 "nbformat_minor": 0,
 "worksheets": [
  {
   "cells": [
    {
     "cell_type": "markdown",
     "metadata": {},
     "source": [
      "# 03 Shape und Reshaping (Form und Umformen)"
     ]
    },
    {
     "cell_type": "code",
     "collapsed": false,
     "input": [
      "import numpy as np"
     ],
     "language": "python",
     "metadata": {},
     "outputs": [],
     "prompt_number": 1
    },
    {
     "cell_type": "code",
     "collapsed": false,
     "input": [
      "a = np.random.randint(0, 10, (2, 3, 4))\n",
      "a"
     ],
     "language": "python",
     "metadata": {},
     "outputs": [
      {
       "metadata": {},
       "output_type": "pyout",
       "prompt_number": 2,
       "text": [
        "array([[[5, 2, 7, 1],\n",
        "        [1, 3, 7, 5],\n",
        "        [0, 6, 9, 1]],\n",
        "\n",
        "       [[2, 0, 2, 1],\n",
        "        [0, 3, 3, 4],\n",
        "        [0, 7, 2, 8]]])"
       ]
      }
     ],
     "prompt_number": 2
    },
    {
     "cell_type": "code",
     "collapsed": false,
     "input": [
      "a.shape  # Gr\u00f6\u00dfe in alle Dimensionen"
     ],
     "language": "python",
     "metadata": {},
     "outputs": [
      {
       "metadata": {},
       "output_type": "pyout",
       "prompt_number": 3,
       "text": [
        "(2, 3, 4)"
       ]
      }
     ],
     "prompt_number": 3
    },
    {
     "cell_type": "markdown",
     "metadata": {},
     "source": [
      "### \"Entwirren\""
     ]
    },
    {
     "cell_type": "code",
     "collapsed": false,
     "input": [
      "a.ravel()"
     ],
     "language": "python",
     "metadata": {},
     "outputs": [
      {
       "metadata": {},
       "output_type": "pyout",
       "prompt_number": 4,
       "text": [
        "array([5, 2, 7, 1, 1, 3, 7, 5, 0, 6, 9, 1, 2, 0, 2, 1, 0, 3, 3, 4, 0, 7, 2,\n",
        "       8])"
       ]
      }
     ],
     "prompt_number": 4
    },
    {
     "cell_type": "markdown",
     "metadata": {},
     "source": [
      "Der \"hinterste\" Index wird als erster inkrementiert"
     ]
    },
    {
     "cell_type": "code",
     "collapsed": false,
     "input": [
      "print a[0, 0, 0]\n",
      "print a[0, 0, 1]\n",
      "print a[0, 0, 2]"
     ],
     "language": "python",
     "metadata": {},
     "outputs": [
      {
       "output_type": "stream",
       "stream": "stdout",
       "text": [
        "5\n",
        "2\n",
        "7\n"
       ]
      }
     ],
     "prompt_number": 5
    },
    {
     "cell_type": "markdown",
     "metadata": {},
     "source": [
      "### Umformen"
     ]
    },
    {
     "cell_type": "code",
     "collapsed": false,
     "input": [
      "a"
     ],
     "language": "python",
     "metadata": {},
     "outputs": [
      {
       "metadata": {},
       "output_type": "pyout",
       "prompt_number": 6,
       "text": [
        "array([[[5, 2, 7, 1],\n",
        "        [1, 3, 7, 5],\n",
        "        [0, 6, 9, 1]],\n",
        "\n",
        "       [[2, 0, 2, 1],\n",
        "        [0, 3, 3, 4],\n",
        "        [0, 7, 2, 8]]])"
       ]
      }
     ],
     "prompt_number": 6
    },
    {
     "cell_type": "code",
     "collapsed": false,
     "input": [
      "a.shape"
     ],
     "language": "python",
     "metadata": {},
     "outputs": [
      {
       "metadata": {},
       "output_type": "pyout",
       "prompt_number": 7,
       "text": [
        "(2, 3, 4)"
       ]
      }
     ],
     "prompt_number": 7
    },
    {
     "cell_type": "code",
     "collapsed": false,
     "input": [
      "b = a.reshape((2, 6, 2))  # muss passen\n",
      "b"
     ],
     "language": "python",
     "metadata": {},
     "outputs": [
      {
       "metadata": {},
       "output_type": "pyout",
       "prompt_number": 8,
       "text": [
        "array([[[5, 2],\n",
        "        [7, 1],\n",
        "        [1, 3],\n",
        "        [7, 5],\n",
        "        [0, 6],\n",
        "        [9, 1]],\n",
        "\n",
        "       [[2, 0],\n",
        "        [2, 1],\n",
        "        [0, 3],\n",
        "        [3, 4],\n",
        "        [0, 7],\n",
        "        [2, 8]]])"
       ]
      }
     ],
     "prompt_number": 8
    },
    {
     "cell_type": "code",
     "collapsed": false,
     "input": [
      "b.shape"
     ],
     "language": "python",
     "metadata": {},
     "outputs": [
      {
       "metadata": {},
       "output_type": "pyout",
       "prompt_number": 9,
       "text": [
        "(2, 6, 2)"
       ]
      }
     ],
     "prompt_number": 9
    },
    {
     "cell_type": "code",
     "collapsed": false,
     "input": [
      "a.shape  # a bleibt unver\u00e4ndert"
     ],
     "language": "python",
     "metadata": {},
     "outputs": [
      {
       "metadata": {},
       "output_type": "pyout",
       "prompt_number": 10,
       "text": [
        "(2, 3, 4)"
       ]
      }
     ],
     "prompt_number": 10
    },
    {
     "cell_type": "code",
     "collapsed": false,
     "input": [
      "a.reshape((4, 6))  # auch Anzahl von Dimensionen ver\u00e4nderbar"
     ],
     "language": "python",
     "metadata": {},
     "outputs": [
      {
       "metadata": {},
       "output_type": "pyout",
       "prompt_number": 11,
       "text": [
        "array([[5, 2, 7, 1, 1, 3],\n",
        "       [7, 5, 0, 6, 9, 1],\n",
        "       [2, 0, 2, 1, 0, 3],\n",
        "       [3, 4, 0, 7, 2, 8]])"
       ]
      }
     ],
     "prompt_number": 11
    },
    {
     "cell_type": "code",
     "collapsed": false,
     "input": [
      "a.reshape(2, 2, 6)  # geht auch ohne Tuple"
     ],
     "language": "python",
     "metadata": {},
     "outputs": [
      {
       "metadata": {},
       "output_type": "pyout",
       "prompt_number": 12,
       "text": [
        "array([[[5, 2, 7, 1, 1, 3],\n",
        "        [7, 5, 0, 6, 9, 1]],\n",
        "\n",
        "       [[2, 0, 2, 1, 0, 3],\n",
        "        [3, 4, 0, 7, 2, 8]]])"
       ]
      }
     ],
     "prompt_number": 12
    },
    {
     "cell_type": "code",
     "collapsed": false,
     "input": [
      "a.shape"
     ],
     "language": "python",
     "metadata": {},
     "outputs": [
      {
       "metadata": {},
       "output_type": "pyout",
       "prompt_number": 13,
       "text": [
        "(2, 3, 4)"
       ]
      }
     ],
     "prompt_number": 13
    },
    {
     "cell_type": "code",
     "collapsed": false,
     "input": [
      "a.shape = (6, 4)  # es kann auch explizit die shape umgesetzt werden\n",
      "a"
     ],
     "language": "python",
     "metadata": {},
     "outputs": [
      {
       "metadata": {},
       "output_type": "pyout",
       "prompt_number": 14,
       "text": [
        "array([[5, 2, 7, 1],\n",
        "       [1, 3, 7, 5],\n",
        "       [0, 6, 9, 1],\n",
        "       [2, 0, 2, 1],\n",
        "       [0, 3, 3, 4],\n",
        "       [0, 7, 2, 8]])"
       ]
      }
     ],
     "prompt_number": 14
    },
    {
     "cell_type": "markdown",
     "metadata": {},
     "source": [
      "#### mit -1 als Argument werden die anderen Dimensionen automatisch angepasst"
     ]
    },
    {
     "cell_type": "code",
     "collapsed": false,
     "input": [
      "a.reshape((2, -1))"
     ],
     "language": "python",
     "metadata": {},
     "outputs": [
      {
       "metadata": {},
       "output_type": "pyout",
       "prompt_number": 15,
       "text": [
        "array([[5, 2, 7, 1, 1, 3, 7, 5, 0, 6, 9, 1],\n",
        "       [2, 0, 2, 1, 0, 3, 3, 4, 0, 7, 2, 8]])"
       ]
      }
     ],
     "prompt_number": 15
    },
    {
     "cell_type": "code",
     "collapsed": false,
     "input": [
      "a.reshape((166, -1))"
     ],
     "language": "python",
     "metadata": {},
     "outputs": [
      {
       "ename": "ValueError",
       "evalue": "total size of new array must be unchanged",
       "output_type": "pyerr",
       "traceback": [
        "\u001b[1;31m---------------------------------------------------------------------------\u001b[0m\n\u001b[1;31mValueError\u001b[0m                                Traceback (most recent call last)",
        "\u001b[1;32m<ipython-input-16-49e12c0d9352>\u001b[0m in \u001b[0;36m<module>\u001b[1;34m()\u001b[0m\n\u001b[1;32m----> 1\u001b[1;33m \u001b[0ma\u001b[0m\u001b[1;33m.\u001b[0m\u001b[0mreshape\u001b[0m\u001b[1;33m(\u001b[0m\u001b[1;33m(\u001b[0m\u001b[1;36m166\u001b[0m\u001b[1;33m,\u001b[0m \u001b[1;33m-\u001b[0m\u001b[1;36m1\u001b[0m\u001b[1;33m)\u001b[0m\u001b[1;33m)\u001b[0m\u001b[1;33m\u001b[0m\u001b[0m\n\u001b[0m",
        "\u001b[1;31mValueError\u001b[0m: total size of new array must be unchanged"
       ]
      }
     ],
     "prompt_number": 16
    },
    {
     "cell_type": "markdown",
     "metadata": {},
     "source": [
      "##Arrays zusammenf\u00fcgen und zerteilen\n",
      "### Zusammenf\u00fcgen"
     ]
    },
    {
     "cell_type": "markdown",
     "metadata": {},
     "source": [
      "arrays k\u00f6nnen mit vstack, hstack, column_stack, row_stack und concatenate zusammengesteckt werden"
     ]
    },
    {
     "cell_type": "markdown",
     "metadata": {},
     "source": [
      "vstack und hstack h\u00e4ngen arrays **v**ertikal (erste Achse) oder **h**orizontal (zweite Achse) hintereinander"
     ]
    },
    {
     "cell_type": "code",
     "collapsed": false,
     "input": [
      "a = np.arange(6).reshape(2,3)\n",
      "a"
     ],
     "language": "python",
     "metadata": {},
     "outputs": [
      {
       "metadata": {},
       "output_type": "pyout",
       "prompt_number": 17,
       "text": [
        "array([[0, 1, 2],\n",
        "       [3, 4, 5]])"
       ]
      }
     ],
     "prompt_number": 17
    },
    {
     "cell_type": "code",
     "collapsed": false,
     "input": [
      "b = np.arange(6, 12).reshape(2,3)\n",
      "b"
     ],
     "language": "python",
     "metadata": {},
     "outputs": [
      {
       "metadata": {},
       "output_type": "pyout",
       "prompt_number": 18,
       "text": [
        "array([[ 6,  7,  8],\n",
        "       [ 9, 10, 11]])"
       ]
      }
     ],
     "prompt_number": 18
    },
    {
     "cell_type": "code",
     "collapsed": false,
     "input": [
      "np.hstack((a, b))"
     ],
     "language": "python",
     "metadata": {},
     "outputs": [
      {
       "metadata": {},
       "output_type": "pyout",
       "prompt_number": 19,
       "text": [
        "array([[ 0,  1,  2,  6,  7,  8],\n",
        "       [ 3,  4,  5,  9, 10, 11]])"
       ]
      }
     ],
     "prompt_number": 19
    },
    {
     "cell_type": "markdown",
     "metadata": {},
     "source": [
      "column_- und row_stack arrangieren eindimensionale Arrays spalten- oder zeilenweise"
     ]
    },
    {
     "cell_type": "code",
     "collapsed": false,
     "input": [
      "a = np.arange(4)\n",
      "a"
     ],
     "language": "python",
     "metadata": {},
     "outputs": [
      {
       "metadata": {},
       "output_type": "pyout",
       "prompt_number": 20,
       "text": [
        "array([0, 1, 2, 3])"
       ]
      }
     ],
     "prompt_number": 20
    },
    {
     "cell_type": "code",
     "collapsed": false,
     "input": [
      "b = np.arange(4, 8)\n",
      "b"
     ],
     "language": "python",
     "metadata": {},
     "outputs": [
      {
       "metadata": {},
       "output_type": "pyout",
       "prompt_number": 21,
       "text": [
        "array([4, 5, 6, 7])"
       ]
      }
     ],
     "prompt_number": 21
    },
    {
     "cell_type": "code",
     "collapsed": false,
     "input": [
      "np.column_stack((a, b))"
     ],
     "language": "python",
     "metadata": {},
     "outputs": [
      {
       "metadata": {},
       "output_type": "pyout",
       "prompt_number": 22,
       "text": [
        "array([[0, 4],\n",
        "       [1, 5],\n",
        "       [2, 6],\n",
        "       [3, 7]])"
       ]
      }
     ],
     "prompt_number": 22
    },
    {
     "cell_type": "code",
     "collapsed": false,
     "input": [
      "np.row_stack((b, a))"
     ],
     "language": "python",
     "metadata": {},
     "outputs": [
      {
       "metadata": {},
       "output_type": "pyout",
       "prompt_number": 23,
       "text": [
        "array([[4, 5, 6, 7],\n",
        "       [0, 1, 2, 3]])"
       ]
      }
     ],
     "prompt_number": 23
    },
    {
     "cell_type": "markdown",
     "metadata": {},
     "source": [
      "mit *concatenate((a, b, c), axis=3)* werden die arrays a, b und c entlang Achse 3 zusammengef\u00fcgt"
     ]
    },
    {
     "cell_type": "markdown",
     "metadata": {},
     "source": [
      "### Zerteilen\n",
      "\n",
      "einfaches zerteilen eines arrays mit *split(array, k)*"
     ]
    },
    {
     "cell_type": "code",
     "collapsed": false,
     "input": [
      "a = np.arange(30).reshape(6, 5)\n",
      "a"
     ],
     "language": "python",
     "metadata": {},
     "outputs": [
      {
       "metadata": {},
       "output_type": "pyout",
       "prompt_number": 24,
       "text": [
        "array([[ 0,  1,  2,  3,  4],\n",
        "       [ 5,  6,  7,  8,  9],\n",
        "       [10, 11, 12, 13, 14],\n",
        "       [15, 16, 17, 18, 19],\n",
        "       [20, 21, 22, 23, 24],\n",
        "       [25, 26, 27, 28, 29]])"
       ]
      }
     ],
     "prompt_number": 24
    },
    {
     "cell_type": "code",
     "collapsed": false,
     "input": [
      "b = np.split(a, 3)  # zerteilt a in 3 gleiche Teile\n",
      "b"
     ],
     "language": "python",
     "metadata": {},
     "outputs": [
      {
       "metadata": {},
       "output_type": "pyout",
       "prompt_number": 25,
       "text": [
        "[array([[0, 1, 2, 3, 4],\n",
        "        [5, 6, 7, 8, 9]]), array([[10, 11, 12, 13, 14],\n",
        "        [15, 16, 17, 18, 19]]), array([[20, 21, 22, 23, 24],\n",
        "        [25, 26, 27, 28, 29]])]"
       ]
      }
     ],
     "prompt_number": 25
    },
    {
     "cell_type": "code",
     "collapsed": false,
     "input": [
      "type(b)"
     ],
     "language": "python",
     "metadata": {},
     "outputs": [
      {
       "metadata": {},
       "output_type": "pyout",
       "prompt_number": 26,
       "text": [
        "list"
       ]
      }
     ],
     "prompt_number": 26
    },
    {
     "cell_type": "code",
     "collapsed": false,
     "input": [
      "b = np.split(a, 5, axis=1)  # die Achse kann angegeben werden\n",
      "b"
     ],
     "language": "python",
     "metadata": {},
     "outputs": [
      {
       "metadata": {},
       "output_type": "pyout",
       "prompt_number": 27,
       "text": [
        "[array([[ 0],\n",
        "        [ 5],\n",
        "        [10],\n",
        "        [15],\n",
        "        [20],\n",
        "        [25]]), array([[ 1],\n",
        "        [ 6],\n",
        "        [11],\n",
        "        [16],\n",
        "        [21],\n",
        "        [26]]), array([[ 2],\n",
        "        [ 7],\n",
        "        [12],\n",
        "        [17],\n",
        "        [22],\n",
        "        [27]]), array([[ 3],\n",
        "        [ 8],\n",
        "        [13],\n",
        "        [18],\n",
        "        [23],\n",
        "        [28]]), array([[ 4],\n",
        "        [ 9],\n",
        "        [14],\n",
        "        [19],\n",
        "        [24],\n",
        "        [29]])]"
       ]
      }
     ],
     "prompt_number": 27
    },
    {
     "cell_type": "markdown",
     "metadata": {},
     "source": [
      "*hsplit*, *vsplit*, *dsplit* sind varianten von split mit axis=0,1,2"
     ]
    },
    {
     "cell_type": "markdown",
     "metadata": {},
     "source": [
      "Bei *split* muss sich der array in k *gleiche* Teile zerteilen lassen, sonst Exception. Bei *array_split* wird in *ungef\u00e4hr* gleiche Teile zerteilt.\n",
      "\n",
      "Ist *k* ein array so gibt er an wo *array* zerteilt werden soll."
     ]
    },
    {
     "cell_type": "code",
     "collapsed": false,
     "input": [
      "np.split(a, [2,4])"
     ],
     "language": "python",
     "metadata": {},
     "outputs": [
      {
       "metadata": {},
       "output_type": "pyout",
       "prompt_number": 28,
       "text": [
        "[array([[0, 1, 2, 3, 4],\n",
        "        [5, 6, 7, 8, 9]]), array([[10, 11, 12, 13, 14],\n",
        "        [15, 16, 17, 18, 19]]), array([[20, 21, 22, 23, 24],\n",
        "        [25, 26, 27, 28, 29]])]"
       ]
      }
     ],
     "prompt_number": 28
    },
    {
     "cell_type": "markdown",
     "metadata": {},
     "source": [
      "# \u00dcbungen"
     ]
    },
    {
     "cell_type": "markdown",
     "metadata": {},
     "source": [
      "* f\u00fcge zwei 3-dimensionale Matrizen mit shape (5, 5, 10) entlang der letzten Achse zusammen\n",
      "* f\u00fcge zwei Arrays der L\u00e4nge 10 (z.B. 0-9 und 10-19) vertikal zusammen und teile das Ergebnis in 5 horizontal Teile\n",
      "* teile einen Array mit Shape (9, 5) vier ungef\u00e4hr gleiche Teile (sowohl entlang Achse 0 als auch entlang Achse 1)"
     ]
    },
    {
     "cell_type": "code",
     "collapsed": false,
     "input": [],
     "language": "python",
     "metadata": {},
     "outputs": [],
     "prompt_number": 26
    },
    {
     "cell_type": "markdown",
     "metadata": {},
     "source": [
      "---\n",
      "<p align=\"center\">Tutorial: Einf\u00fchrung in NumPy von Henning Dickten und Christian Geier, PyCon.DE 2013</p>\n",
      "<p align=\"center\"><a rel=\"license\" href=\"http://creativecommons.org/licenses/by-nc-sa/3.0/deed.de\"><img alt=\"Creative Commons Lizenzvertrag\" style=\"border-width:0\" src=\"http://i.creativecommons.org/l/by-nc-sa/3.0/88x31.png\"/></a></p>\n",
      "\n",
      "<p align=\"center\">Dieses Werk bzw. Inhalt ist lizenziert unter einer <a rel=\"license\" href=\"http://creativecommons.org/licenses/by-nc-sa/3.0/deed.de\">Creative Commons Namensnennung - Nicht-kommerziell - Weitergabe unter gleichen Bedingungen 3.0 Unported Lizenz</a>.</p>"
     ]
    }
   ],
   "metadata": {}
  }
 ]
}