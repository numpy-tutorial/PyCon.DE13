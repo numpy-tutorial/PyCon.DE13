{
 "metadata": {
  "name": ""
 },
 "nbformat": 3,
 "nbformat_minor": 0,
 "worksheets": [
  {
   "cells": [
    {
     "cell_type": "markdown",
     "metadata": {},
     "source": [
      "### f\u00fcge zwei 3-dimensionale Matrizen entlang der letzten Achse zusammen"
     ]
    },
    {
     "cell_type": "code",
     "collapsed": false,
     "input": [
      "import numpy as np"
     ],
     "language": "python",
     "metadata": {},
     "outputs": [],
     "prompt_number": 1
    },
    {
     "cell_type": "code",
     "collapsed": false,
     "input": [
      "a = np.arange(5*5*10).reshape(5, 5, 10)"
     ],
     "language": "python",
     "metadata": {},
     "outputs": [],
     "prompt_number": 2
    },
    {
     "cell_type": "code",
     "collapsed": false,
     "input": [
      "b = a.copy()\n",
      "b"
     ],
     "language": "python",
     "metadata": {},
     "outputs": [
      {
       "metadata": {},
       "output_type": "pyout",
       "prompt_number": 3,
       "text": [
        "array([[[  0,   1,   2,   3,   4,   5,   6,   7,   8,   9],\n",
        "        [ 10,  11,  12,  13,  14,  15,  16,  17,  18,  19],\n",
        "        [ 20,  21,  22,  23,  24,  25,  26,  27,  28,  29],\n",
        "        [ 30,  31,  32,  33,  34,  35,  36,  37,  38,  39],\n",
        "        [ 40,  41,  42,  43,  44,  45,  46,  47,  48,  49]],\n",
        "\n",
        "       [[ 50,  51,  52,  53,  54,  55,  56,  57,  58,  59],\n",
        "        [ 60,  61,  62,  63,  64,  65,  66,  67,  68,  69],\n",
        "        [ 70,  71,  72,  73,  74,  75,  76,  77,  78,  79],\n",
        "        [ 80,  81,  82,  83,  84,  85,  86,  87,  88,  89],\n",
        "        [ 90,  91,  92,  93,  94,  95,  96,  97,  98,  99]],\n",
        "\n",
        "       [[100, 101, 102, 103, 104, 105, 106, 107, 108, 109],\n",
        "        [110, 111, 112, 113, 114, 115, 116, 117, 118, 119],\n",
        "        [120, 121, 122, 123, 124, 125, 126, 127, 128, 129],\n",
        "        [130, 131, 132, 133, 134, 135, 136, 137, 138, 139],\n",
        "        [140, 141, 142, 143, 144, 145, 146, 147, 148, 149]],\n",
        "\n",
        "       [[150, 151, 152, 153, 154, 155, 156, 157, 158, 159],\n",
        "        [160, 161, 162, 163, 164, 165, 166, 167, 168, 169],\n",
        "        [170, 171, 172, 173, 174, 175, 176, 177, 178, 179],\n",
        "        [180, 181, 182, 183, 184, 185, 186, 187, 188, 189],\n",
        "        [190, 191, 192, 193, 194, 195, 196, 197, 198, 199]],\n",
        "\n",
        "       [[200, 201, 202, 203, 204, 205, 206, 207, 208, 209],\n",
        "        [210, 211, 212, 213, 214, 215, 216, 217, 218, 219],\n",
        "        [220, 221, 222, 223, 224, 225, 226, 227, 228, 229],\n",
        "        [230, 231, 232, 233, 234, 235, 236, 237, 238, 239],\n",
        "        [240, 241, 242, 243, 244, 245, 246, 247, 248, 249]]])"
       ]
      }
     ],
     "prompt_number": 3
    },
    {
     "cell_type": "code",
     "collapsed": false,
     "input": [
      "c = np.concatenate((a, b), axis=2)"
     ],
     "language": "python",
     "metadata": {},
     "outputs": [],
     "prompt_number": 4
    },
    {
     "cell_type": "code",
     "collapsed": false,
     "input": [
      "c.shape"
     ],
     "language": "python",
     "metadata": {},
     "outputs": [
      {
       "metadata": {},
       "output_type": "pyout",
       "prompt_number": 5,
       "text": [
        "(5, 5, 20)"
       ]
      }
     ],
     "prompt_number": 5
    },
    {
     "cell_type": "markdown",
     "metadata": {},
     "source": [
      "### F\u00fcge zwei Arrays der L\u00e4nge 10 (z.B. 0-9 und 10-19) vertikal zusammen und teile das Ergebnis in 5 horizontal Teile"
     ]
    },
    {
     "cell_type": "code",
     "collapsed": false,
     "input": [
      "a = np.arange(10)\n",
      "b = np.arange(10, 20)"
     ],
     "language": "python",
     "metadata": {},
     "outputs": [],
     "prompt_number": 6
    },
    {
     "cell_type": "code",
     "collapsed": false,
     "input": [
      "c = np.vstack((a, b))\n",
      "c"
     ],
     "language": "python",
     "metadata": {},
     "outputs": [
      {
       "metadata": {},
       "output_type": "pyout",
       "prompt_number": 7,
       "text": [
        "array([[ 0,  1,  2,  3,  4,  5,  6,  7,  8,  9],\n",
        "       [10, 11, 12, 13, 14, 15, 16, 17, 18, 19]])"
       ]
      }
     ],
     "prompt_number": 7
    },
    {
     "cell_type": "code",
     "collapsed": false,
     "input": [
      "np.split(c, 5, axis=1)"
     ],
     "language": "python",
     "metadata": {},
     "outputs": [
      {
       "metadata": {},
       "output_type": "pyout",
       "prompt_number": 8,
       "text": [
        "[array([[ 0,  1],\n",
        "        [10, 11]]), array([[ 2,  3],\n",
        "        [12, 13]]), array([[ 4,  5],\n",
        "        [14, 15]]), array([[ 6,  7],\n",
        "        [16, 17]]), array([[ 8,  9],\n",
        "        [18, 19]])]"
       ]
      }
     ],
     "prompt_number": 8
    },
    {
     "cell_type": "markdown",
     "metadata": {},
     "source": [
      "### Teile einen Array mit Shape (9, 5) vier ungef\u00e4hr gleiche Teile (sowohl entlang Achse 0 als auch entlang Achse 1)"
     ]
    },
    {
     "cell_type": "code",
     "collapsed": false,
     "input": [
      "c = np.random.randint(0, 100, 45).reshape(9, 5)\n",
      "c"
     ],
     "language": "python",
     "metadata": {},
     "outputs": [
      {
       "metadata": {},
       "output_type": "pyout",
       "prompt_number": 9,
       "text": [
        "array([[69,  0, 38,  5, 33],\n",
        "       [28, 48, 46, 27, 42],\n",
        "       [44,  8,  2, 86, 46],\n",
        "       [87, 76, 11, 49,  0],\n",
        "       [51, 12, 14, 36, 87],\n",
        "       [11, 20, 44, 53, 86],\n",
        "       [ 9, 34, 16, 53, 31],\n",
        "       [90, 80, 14, 22, 25],\n",
        "       [15, 72, 11, 30, 56]])"
       ]
      }
     ],
     "prompt_number": 9
    },
    {
     "cell_type": "code",
     "collapsed": false,
     "input": [
      "np.array_split(c, 4)"
     ],
     "language": "python",
     "metadata": {},
     "outputs": [
      {
       "metadata": {},
       "output_type": "pyout",
       "prompt_number": 10,
       "text": [
        "[array([[69,  0, 38,  5, 33],\n",
        "        [28, 48, 46, 27, 42],\n",
        "        [44,  8,  2, 86, 46]]), array([[87, 76, 11, 49,  0],\n",
        "        [51, 12, 14, 36, 87]]), array([[11, 20, 44, 53, 86],\n",
        "        [ 9, 34, 16, 53, 31]]), array([[90, 80, 14, 22, 25],\n",
        "        [15, 72, 11, 30, 56]])]"
       ]
      }
     ],
     "prompt_number": 10
    },
    {
     "cell_type": "code",
     "collapsed": false,
     "input": [
      "np.array_split(c, 4, axis=1)"
     ],
     "language": "python",
     "metadata": {},
     "outputs": [
      {
       "metadata": {},
       "output_type": "pyout",
       "prompt_number": 11,
       "text": [
        "[array([[69,  0],\n",
        "        [28, 48],\n",
        "        [44,  8],\n",
        "        [87, 76],\n",
        "        [51, 12],\n",
        "        [11, 20],\n",
        "        [ 9, 34],\n",
        "        [90, 80],\n",
        "        [15, 72]]), array([[38],\n",
        "        [46],\n",
        "        [ 2],\n",
        "        [11],\n",
        "        [14],\n",
        "        [44],\n",
        "        [16],\n",
        "        [14],\n",
        "        [11]]), array([[ 5],\n",
        "        [27],\n",
        "        [86],\n",
        "        [49],\n",
        "        [36],\n",
        "        [53],\n",
        "        [53],\n",
        "        [22],\n",
        "        [30]]), array([[33],\n",
        "        [42],\n",
        "        [46],\n",
        "        [ 0],\n",
        "        [87],\n",
        "        [86],\n",
        "        [31],\n",
        "        [25],\n",
        "        [56]])]"
       ]
      }
     ],
     "prompt_number": 11
    },
    {
     "cell_type": "markdown",
     "metadata": {},
     "source": [
      "---\n",
      "<p align=\"center\">Tutorial: Einf\u00fchrung in NumPy von Henning Dickten und Christian Geier, PyCon.DE 2013</p>\n",
      "<p align=\"center\"><a rel=\"license\" href=\"http://creativecommons.org/licenses/by-nc-sa/3.0/deed.de\"><img alt=\"Creative Commons Lizenzvertrag\" style=\"border-width:0\" src=\"http://i.creativecommons.org/l/by-nc-sa/3.0/88x31.png\"/></a></p>\n",
      "\n",
      "<p align=\"center\">Dieses Werk bzw. Inhalt ist lizenziert unter einer <a rel=\"license\" href=\"http://creativecommons.org/licenses/by-nc-sa/3.0/deed.de\">Creative Commons Namensnennung - Nicht-kommerziell - Weitergabe unter gleichen Bedingungen 3.0 Unported Lizenz</a>.</p>\n",
      "\n"
     ]
    }
   ],
   "metadata": {}
  }
 ]
}