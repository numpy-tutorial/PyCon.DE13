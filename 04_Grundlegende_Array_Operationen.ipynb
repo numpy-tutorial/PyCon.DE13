{
 "metadata": {
  "name": ""
 },
 "nbformat": 3,
 "nbformat_minor": 0,
 "worksheets": [
  {
   "cells": [
    {
     "cell_type": "markdown",
     "metadata": {},
     "source": [
      "# 04 Grundlegende Array Operationen"
     ]
    },
    {
     "cell_type": "code",
     "collapsed": false,
     "input": [
      "import numpy as np"
     ],
     "language": "python",
     "metadata": {},
     "outputs": [],
     "prompt_number": 10
    },
    {
     "cell_type": "markdown",
     "metadata": {},
     "source": [
      "## Array mit Skalaren"
     ]
    },
    {
     "cell_type": "code",
     "collapsed": false,
     "input": [
      "a = np.arange(4)\n",
      "a"
     ],
     "language": "python",
     "metadata": {},
     "outputs": [
      {
       "metadata": {},
       "output_type": "pyout",
       "prompt_number": 11,
       "text": [
        "array([0, 1, 2, 3])"
       ]
      }
     ],
     "prompt_number": 11
    },
    {
     "cell_type": "code",
     "collapsed": false,
     "input": [
      "a * 2"
     ],
     "language": "python",
     "metadata": {},
     "outputs": [
      {
       "metadata": {},
       "output_type": "pyout",
       "prompt_number": 12,
       "text": [
        "array([0, 2, 4, 6])"
       ]
      }
     ],
     "prompt_number": 12
    },
    {
     "cell_type": "code",
     "collapsed": false,
     "input": [
      "a + 2"
     ],
     "language": "python",
     "metadata": {},
     "outputs": [
      {
       "metadata": {},
       "output_type": "pyout",
       "prompt_number": 13,
       "text": [
        "array([2, 3, 4, 5])"
       ]
      }
     ],
     "prompt_number": 13
    },
    {
     "cell_type": "code",
     "collapsed": false,
     "input": [
      "2 ** a"
     ],
     "language": "python",
     "metadata": {},
     "outputs": [
      {
       "metadata": {},
       "output_type": "pyout",
       "prompt_number": 14,
       "text": [
        "array([1, 2, 4, 8])"
       ]
      }
     ],
     "prompt_number": 14
    },
    {
     "cell_type": "markdown",
     "metadata": {},
     "source": [
      "## Array mit Arrays"
     ]
    },
    {
     "cell_type": "code",
     "collapsed": false,
     "input": [
      "b = np.arange(4, 8)\n",
      "b"
     ],
     "language": "python",
     "metadata": {},
     "outputs": [
      {
       "metadata": {},
       "output_type": "pyout",
       "prompt_number": 15,
       "text": [
        "array([4, 5, 6, 7])"
       ]
      }
     ],
     "prompt_number": 15
    },
    {
     "cell_type": "code",
     "collapsed": false,
     "input": [
      "a + b"
     ],
     "language": "python",
     "metadata": {},
     "outputs": [
      {
       "metadata": {},
       "output_type": "pyout",
       "prompt_number": 16,
       "text": [
        "array([ 4,  6,  8, 10])"
       ]
      }
     ],
     "prompt_number": 16
    },
    {
     "cell_type": "code",
     "collapsed": false,
     "input": [
      "a - b"
     ],
     "language": "python",
     "metadata": {},
     "outputs": [
      {
       "metadata": {},
       "output_type": "pyout",
       "prompt_number": 17,
       "text": [
        "array([-4, -4, -4, -4])"
       ]
      }
     ],
     "prompt_number": 17
    },
    {
     "cell_type": "code",
     "collapsed": false,
     "input": [
      "a * b  # ACHTUNG: Elementweise"
     ],
     "language": "python",
     "metadata": {},
     "outputs": [
      {
       "metadata": {},
       "output_type": "pyout",
       "prompt_number": 18,
       "text": [
        "array([ 0,  5, 12, 21])"
       ]
      }
     ],
     "prompt_number": 18
    },
    {
     "cell_type": "code",
     "collapsed": false,
     "input": [
      "a.dot(b)"
     ],
     "language": "python",
     "metadata": {},
     "outputs": [
      {
       "metadata": {},
       "output_type": "pyout",
       "prompt_number": 19,
       "text": [
        "38"
       ]
      }
     ],
     "prompt_number": 19
    },
    {
     "cell_type": "markdown",
     "metadata": {},
     "source": [
      "## Mehrdimensional"
     ]
    },
    {
     "cell_type": "code",
     "collapsed": false,
     "input": [
      "a = np.ones((5, 5))\n",
      "a"
     ],
     "language": "python",
     "metadata": {},
     "outputs": [
      {
       "metadata": {},
       "output_type": "pyout",
       "prompt_number": 20,
       "text": [
        "array([[ 1.,  1.,  1.,  1.,  1.],\n",
        "       [ 1.,  1.,  1.,  1.,  1.],\n",
        "       [ 1.,  1.,  1.,  1.,  1.],\n",
        "       [ 1.,  1.,  1.,  1.,  1.],\n",
        "       [ 1.,  1.,  1.,  1.,  1.]])"
       ]
      }
     ],
     "prompt_number": 20
    },
    {
     "cell_type": "code",
     "collapsed": false,
     "input": [
      "b = np.arange(5)\n",
      "b"
     ],
     "language": "python",
     "metadata": {},
     "outputs": [
      {
       "metadata": {},
       "output_type": "pyout",
       "prompt_number": 21,
       "text": [
        "array([0, 1, 2, 3, 4])"
       ]
      }
     ],
     "prompt_number": 21
    },
    {
     "cell_type": "code",
     "collapsed": false,
     "input": [
      "a * b"
     ],
     "language": "python",
     "metadata": {},
     "outputs": [
      {
       "metadata": {},
       "output_type": "pyout",
       "prompt_number": 22,
       "text": [
        "array([[ 0.,  1.,  2.,  3.,  4.],\n",
        "       [ 0.,  1.,  2.,  3.,  4.],\n",
        "       [ 0.,  1.,  2.,  3.,  4.],\n",
        "       [ 0.,  1.,  2.,  3.,  4.],\n",
        "       [ 0.,  1.,  2.,  3.,  4.]])"
       ]
      }
     ],
     "prompt_number": 22
    },
    {
     "cell_type": "code",
     "collapsed": false,
     "input": [
      "a - b"
     ],
     "language": "python",
     "metadata": {},
     "outputs": [
      {
       "metadata": {},
       "output_type": "pyout",
       "prompt_number": 23,
       "text": [
        "array([[ 1.,  0., -1., -2., -3.],\n",
        "       [ 1.,  0., -1., -2., -3.],\n",
        "       [ 1.,  0., -1., -2., -3.],\n",
        "       [ 1.,  0., -1., -2., -3.],\n",
        "       [ 1.,  0., -1., -2., -3.]])"
       ]
      }
     ],
     "prompt_number": 23
    },
    {
     "cell_type": "code",
     "collapsed": false,
     "input": [
      "b - a"
     ],
     "language": "python",
     "metadata": {},
     "outputs": [
      {
       "metadata": {},
       "output_type": "pyout",
       "prompt_number": 24,
       "text": [
        "array([[-1.,  0.,  1.,  2.,  3.],\n",
        "       [-1.,  0.,  1.,  2.,  3.],\n",
        "       [-1.,  0.,  1.,  2.,  3.],\n",
        "       [-1.,  0.,  1.,  2.,  3.],\n",
        "       [-1.,  0.,  1.,  2.,  3.]])"
       ]
      }
     ],
     "prompt_number": 24
    },
    {
     "cell_type": "markdown",
     "metadata": {},
     "source": [
      "#### auch NumPy kann keine Wunder "
     ]
    },
    {
     "cell_type": "code",
     "collapsed": false,
     "input": [
      "c = np.arange(6)"
     ],
     "language": "python",
     "metadata": {},
     "outputs": [],
     "prompt_number": 25
    },
    {
     "cell_type": "code",
     "collapsed": false,
     "input": [
      "a - c"
     ],
     "language": "python",
     "metadata": {},
     "outputs": [
      {
       "ename": "ValueError",
       "evalue": "operands could not be broadcast together with shapes (5,5) (6) ",
       "output_type": "pyerr",
       "traceback": [
        "\u001b[1;31m---------------------------------------------------------------------------\u001b[0m\n\u001b[1;31mValueError\u001b[0m                                Traceback (most recent call last)",
        "\u001b[1;32m<ipython-input-26-5968391d069c>\u001b[0m in \u001b[0;36m<module>\u001b[1;34m()\u001b[0m\n\u001b[1;32m----> 1\u001b[1;33m \u001b[0ma\u001b[0m \u001b[1;33m-\u001b[0m \u001b[0mc\u001b[0m\u001b[1;33m\u001b[0m\u001b[0m\n\u001b[0m",
        "\u001b[1;31mValueError\u001b[0m: operands could not be broadcast together with shapes (5,5) (6) "
       ]
      }
     ],
     "prompt_number": 26
    },
    {
     "cell_type": "markdown",
     "metadata": {},
     "source": [
      "## Mathematische Funktionen"
     ]
    },
    {
     "cell_type": "code",
     "collapsed": false,
     "input": [
      "a = np.linspace(0, 2 * np.pi, 100)\n",
      "a"
     ],
     "language": "python",
     "metadata": {},
     "outputs": [
      {
       "metadata": {},
       "output_type": "pyout",
       "prompt_number": 27,
       "text": [
        "array([ 0.        ,  0.06346652,  0.12693304,  0.19039955,  0.25386607,\n",
        "        0.31733259,  0.38079911,  0.44426563,  0.50773215,  0.57119866,\n",
        "        0.63466518,  0.6981317 ,  0.76159822,  0.82506474,  0.88853126,\n",
        "        0.95199777,  1.01546429,  1.07893081,  1.14239733,  1.20586385,\n",
        "        1.26933037,  1.33279688,  1.3962634 ,  1.45972992,  1.52319644,\n",
        "        1.58666296,  1.65012947,  1.71359599,  1.77706251,  1.84052903,\n",
        "        1.90399555,  1.96746207,  2.03092858,  2.0943951 ,  2.15786162,\n",
        "        2.22132814,  2.28479466,  2.34826118,  2.41172769,  2.47519421,\n",
        "        2.53866073,  2.60212725,  2.66559377,  2.72906028,  2.7925268 ,\n",
        "        2.85599332,  2.91945984,  2.98292636,  3.04639288,  3.10985939,\n",
        "        3.17332591,  3.23679243,  3.30025895,  3.36372547,  3.42719199,\n",
        "        3.4906585 ,  3.55412502,  3.61759154,  3.68105806,  3.74452458,\n",
        "        3.8079911 ,  3.87145761,  3.93492413,  3.99839065,  4.06185717,\n",
        "        4.12532369,  4.1887902 ,  4.25225672,  4.31572324,  4.37918976,\n",
        "        4.44265628,  4.5061228 ,  4.56958931,  4.63305583,  4.69652235,\n",
        "        4.75998887,  4.82345539,  4.88692191,  4.95038842,  5.01385494,\n",
        "        5.07732146,  5.14078798,  5.2042545 ,  5.26772102,  5.33118753,\n",
        "        5.39465405,  5.45812057,  5.52158709,  5.58505361,  5.64852012,\n",
        "        5.71198664,  5.77545316,  5.83891968,  5.9023862 ,  5.96585272,\n",
        "        6.02931923,  6.09278575,  6.15625227,  6.21971879,  6.28318531])"
       ]
      }
     ],
     "prompt_number": 27
    },
    {
     "cell_type": "code",
     "collapsed": false,
     "input": [
      "np.sin(a)"
     ],
     "language": "python",
     "metadata": {},
     "outputs": [
      {
       "metadata": {},
       "output_type": "pyout",
       "prompt_number": 28,
       "text": [
        "array([  0.00000000e+00,   6.34239197e-02,   1.26592454e-01,\n",
        "         1.89251244e-01,   2.51147987e-01,   3.12033446e-01,\n",
        "         3.71662456e-01,   4.29794912e-01,   4.86196736e-01,\n",
        "         5.40640817e-01,   5.92907929e-01,   6.42787610e-01,\n",
        "         6.90079011e-01,   7.34591709e-01,   7.76146464e-01,\n",
        "         8.14575952e-01,   8.49725430e-01,   8.81453363e-01,\n",
        "         9.09631995e-01,   9.34147860e-01,   9.54902241e-01,\n",
        "         9.71811568e-01,   9.84807753e-01,   9.93838464e-01,\n",
        "         9.98867339e-01,   9.99874128e-01,   9.96854776e-01,\n",
        "         9.89821442e-01,   9.78802446e-01,   9.63842159e-01,\n",
        "         9.45000819e-01,   9.22354294e-01,   8.95993774e-01,\n",
        "         8.66025404e-01,   8.32569855e-01,   7.95761841e-01,\n",
        "         7.55749574e-01,   7.12694171e-01,   6.66769001e-01,\n",
        "         6.18158986e-01,   5.67059864e-01,   5.13677392e-01,\n",
        "         4.58226522e-01,   4.00930535e-01,   3.42020143e-01,\n",
        "         2.81732557e-01,   2.20310533e-01,   1.58001396e-01,\n",
        "         9.50560433e-02,   3.17279335e-02,  -3.17279335e-02,\n",
        "        -9.50560433e-02,  -1.58001396e-01,  -2.20310533e-01,\n",
        "        -2.81732557e-01,  -3.42020143e-01,  -4.00930535e-01,\n",
        "        -4.58226522e-01,  -5.13677392e-01,  -5.67059864e-01,\n",
        "        -6.18158986e-01,  -6.66769001e-01,  -7.12694171e-01,\n",
        "        -7.55749574e-01,  -7.95761841e-01,  -8.32569855e-01,\n",
        "        -8.66025404e-01,  -8.95993774e-01,  -9.22354294e-01,\n",
        "        -9.45000819e-01,  -9.63842159e-01,  -9.78802446e-01,\n",
        "        -9.89821442e-01,  -9.96854776e-01,  -9.99874128e-01,\n",
        "        -9.98867339e-01,  -9.93838464e-01,  -9.84807753e-01,\n",
        "        -9.71811568e-01,  -9.54902241e-01,  -9.34147860e-01,\n",
        "        -9.09631995e-01,  -8.81453363e-01,  -8.49725430e-01,\n",
        "        -8.14575952e-01,  -7.76146464e-01,  -7.34591709e-01,\n",
        "        -6.90079011e-01,  -6.42787610e-01,  -5.92907929e-01,\n",
        "        -5.40640817e-01,  -4.86196736e-01,  -4.29794912e-01,\n",
        "        -3.71662456e-01,  -3.12033446e-01,  -2.51147987e-01,\n",
        "        -1.89251244e-01,  -1.26592454e-01,  -6.34239197e-02,\n",
        "        -2.44929360e-16])"
       ]
      }
     ],
     "prompt_number": 28
    },
    {
     "cell_type": "code",
     "collapsed": false,
     "input": [
      "plot(a, np.sin(a));"
     ],
     "language": "python",
     "metadata": {},
     "outputs": [
      {
       "metadata": {},
       "output_type": "display_data",
       "png": "[encoded data removed]",
       "text": [
        "<matplotlib.figure.Figure at 0x25b4cd0>"
       ]
      }
     ],
     "prompt_number": 29
    },
    {
     "cell_type": "code",
     "collapsed": false,
     "input": [
      "# cos, tan, arcos [...]"
     ],
     "language": "python",
     "metadata": {},
     "outputs": [],
     "prompt_number": 30
    },
    {
     "cell_type": "code",
     "collapsed": false,
     "input": [
      "np.exp(a)"
     ],
     "language": "python",
     "metadata": {},
     "outputs": [
      {
       "metadata": {},
       "output_type": "pyout",
       "prompt_number": 31,
       "text": [
        "array([   1.        ,    1.06552381,    1.13534099,    1.20973286,\n",
        "          1.28899916,    1.3734593 ,    1.46345358,    1.55934464,\n",
        "          1.66151884,    1.77038788,    1.88639044,    2.00999393,\n",
        "          2.14169639,    2.28202849,    2.43155569,    2.59088049,\n",
        "          2.76064485,    2.94153281,    3.13427325,    3.33964277,\n",
        "          3.55846889,    3.79163333,    4.04007559,    4.30479673,\n",
        "          4.58686341,    4.88741218,    5.20765404,    5.54887937,\n",
        "          5.91246309,    6.2998702 ,    6.71266169,    7.15250086,\n",
        "          7.62115996,    8.1205274 ,    8.65261529,    9.2195676 ,\n",
        "          9.8236688 ,   10.467353  ,   11.15321385,   11.88401491,\n",
        "         12.66270084,   13.49240924,   14.37648329,   15.31848524,\n",
        "         16.32221075,   17.39170418,   18.5312749 ,   19.74551462,\n",
        "         21.03931597,   22.4178921 ,   23.88679779,   25.45195178,\n",
        "         27.11966063,   28.89664411,   30.79006231,   32.80754449,\n",
        "         34.95721979,   37.24775001,   39.68836449,   42.28889732,\n",
        "         45.05982698,   48.01231851,   51.15826852,   54.51035317,\n",
        "         58.08207917,   61.88783827,   65.9429652 ,   70.2637995 ,\n",
        "         74.86775132,   79.7733716 ,   85.00042681,   90.5699786 ,\n",
        "         96.50446863,  102.82780906,  109.56547884,  116.74462642,\n",
        "        124.39417909,  132.5449596 ,  141.22981029,  150.48372549,\n",
        "        160.34399247,  170.85034171,  182.04510697,  193.9733959 ,\n",
        "        206.68327176,  220.22594711,  234.65599014,  250.03154456,\n",
        "        266.41456388,  283.87106104,  302.47137439,  322.29045114,\n",
        "        343.4081493 ,  365.90955949,  389.8853478 ,  415.4321211 ,\n",
        "        442.65281631,  471.65711517,  502.56188618,  535.49165552])"
       ]
      }
     ],
     "prompt_number": 31
    },
    {
     "cell_type": "code",
     "collapsed": false,
     "input": [
      "plot(np.exp(a))"
     ],
     "language": "python",
     "metadata": {},
     "outputs": [
      {
       "metadata": {},
       "output_type": "pyout",
       "prompt_number": 32,
       "text": [
        "[<matplotlib.lines.Line2D at 0x26e3e90>]"
       ]
      },
      {
       "metadata": {},
       "output_type": "display_data",
       "png": "[encoded data removed]",
       "text": [
        "<matplotlib.figure.Figure at 0x26e0bd0>"
       ]
      }
     ],
     "prompt_number": 32
    },
    {
     "cell_type": "markdown",
     "metadata": {},
     "source": [
      "## Universelle Funktionen"
     ]
    },
    {
     "cell_type": "code",
     "collapsed": false,
     "input": [
      "a = np.arange(600)\n",
      "np.mean(a)"
     ],
     "language": "python",
     "metadata": {},
     "outputs": [
      {
       "metadata": {},
       "output_type": "pyout",
       "prompt_number": 33,
       "text": [
        "299.5"
       ]
      }
     ],
     "prompt_number": 33
    },
    {
     "cell_type": "code",
     "collapsed": false,
     "input": [
      "a.mean()"
     ],
     "language": "python",
     "metadata": {},
     "outputs": [
      {
       "metadata": {},
       "output_type": "pyout",
       "prompt_number": 34,
       "text": [
        "299.5"
       ]
      }
     ],
     "prompt_number": 34
    },
    {
     "cell_type": "code",
     "collapsed": false,
     "input": [
      "a.sum()"
     ],
     "language": "python",
     "metadata": {},
     "outputs": [
      {
       "metadata": {},
       "output_type": "pyout",
       "prompt_number": 35,
       "text": [
        "179700"
       ]
      }
     ],
     "prompt_number": 35
    },
    {
     "cell_type": "code",
     "collapsed": false,
     "input": [
      "%timeit a.sum()"
     ],
     "language": "python",
     "metadata": {},
     "outputs": [
      {
       "output_type": "stream",
       "stream": "stdout",
       "text": [
        "100000 loops, best of 3: 5.59 \u00b5s per loop\n"
       ]
      }
     ],
     "prompt_number": 36
    },
    {
     "cell_type": "code",
     "collapsed": false,
     "input": [
      "%timeit sum(a) #nimmt NumPys sum wegen pylab/IPython"
     ],
     "language": "python",
     "metadata": {},
     "outputs": [
      {
       "output_type": "stream",
       "stream": "stdout",
       "text": [
        "100000 loops, best of 3: 8.75 \u00b5s per loop\n"
       ]
      }
     ],
     "prompt_number": 37
    },
    {
     "cell_type": "code",
     "collapsed": false,
     "input": [
      "b = np.arange(5 * 20).reshape(5, 20)"
     ],
     "language": "python",
     "metadata": {},
     "outputs": [],
     "prompt_number": 38
    },
    {
     "cell_type": "code",
     "collapsed": false,
     "input": [
      "b.sum()"
     ],
     "language": "python",
     "metadata": {},
     "outputs": [
      {
       "metadata": {},
       "output_type": "pyout",
       "prompt_number": 39,
       "text": [
        "4950"
       ]
      }
     ],
     "prompt_number": 39
    },
    {
     "cell_type": "code",
     "collapsed": false,
     "input": [
      "b[:, 0].sum()"
     ],
     "language": "python",
     "metadata": {},
     "outputs": [
      {
       "metadata": {},
       "output_type": "pyout",
       "prompt_number": 40,
       "text": [
        "200"
       ]
      }
     ],
     "prompt_number": 40
    },
    {
     "cell_type": "markdown",
     "metadata": {},
     "source": [
      "Viele dieser Funktionen k\u00f6nnen auch nur entlang einer Achse ausgef\u00fchrt werden"
     ]
    },
    {
     "cell_type": "code",
     "collapsed": false,
     "input": [
      "b.sum(axis=0)"
     ],
     "language": "python",
     "metadata": {},
     "outputs": [
      {
       "metadata": {},
       "output_type": "pyout",
       "prompt_number": 41,
       "text": [
        "array([200, 205, 210, 215, 220, 225, 230, 235, 240, 245, 250, 255, 260,\n",
        "       265, 270, 275, 280, 285, 290, 295])"
       ]
      }
     ],
     "prompt_number": 41
    },
    {
     "cell_type": "code",
     "collapsed": false,
     "input": [
      "b.sum(axis=1)"
     ],
     "language": "python",
     "metadata": {},
     "outputs": [
      {
       "metadata": {},
       "output_type": "pyout",
       "prompt_number": 42,
       "text": [
        "array([ 190,  590,  990, 1390, 1790])"
       ]
      }
     ],
     "prompt_number": 42
    },
    {
     "cell_type": "code",
     "collapsed": false,
     "input": [
      "b.mean(axis=1)"
     ],
     "language": "python",
     "metadata": {},
     "outputs": [
      {
       "metadata": {},
       "output_type": "pyout",
       "prompt_number": 43,
       "text": [
        "array([  9.5,  29.5,  49.5,  69.5,  89.5])"
       ]
      }
     ],
     "prompt_number": 43
    },
    {
     "cell_type": "markdown",
     "metadata": {},
     "source": [
      "# weiter Beispiele"
     ]
    },
    {
     "cell_type": "code",
     "collapsed": false,
     "input": [
      "b = np.random.uniform(0, 1, 5*20).reshape(5, 20)\n",
      "np.median(b)   # wieso gibts es b.median() nicht?"
     ],
     "language": "python",
     "metadata": {},
     "outputs": [
      {
       "metadata": {},
       "output_type": "pyout",
       "prompt_number": 44,
       "text": [
        "0.52905671466351223"
       ]
      }
     ],
     "prompt_number": 44
    },
    {
     "cell_type": "code",
     "collapsed": false,
     "input": [
      "np.median(b, axis=1)"
     ],
     "language": "python",
     "metadata": {},
     "outputs": [
      {
       "metadata": {},
       "output_type": "pyout",
       "prompt_number": 45,
       "text": [
        "array([ 0.6121771 ,  0.28873816,  0.57090683,  0.50542607,  0.50218307])"
       ]
      }
     ],
     "prompt_number": 45
    },
    {
     "cell_type": "code",
     "collapsed": false,
     "input": [
      "np.max(b)"
     ],
     "language": "python",
     "metadata": {},
     "outputs": [
      {
       "metadata": {},
       "output_type": "pyout",
       "prompt_number": 46,
       "text": [
        "0.98873949069676681"
       ]
      }
     ],
     "prompt_number": 46
    },
    {
     "cell_type": "code",
     "collapsed": false,
     "input": [
      "np.min(b)"
     ],
     "language": "python",
     "metadata": {},
     "outputs": [
      {
       "metadata": {},
       "output_type": "pyout",
       "prompt_number": 47,
       "text": [
        "0.01711931922969534"
       ]
      }
     ],
     "prompt_number": 47
    },
    {
     "cell_type": "code",
     "collapsed": false,
     "input": [
      "np.argmax(b)  # Index des Maximum"
     ],
     "language": "python",
     "metadata": {},
     "outputs": [
      {
       "metadata": {},
       "output_type": "pyout",
       "prompt_number": 48,
       "text": [
        "77"
       ]
      }
     ],
     "prompt_number": 48
    },
    {
     "cell_type": "code",
     "collapsed": false,
     "input": [
      "np.argmin(b)"
     ],
     "language": "python",
     "metadata": {},
     "outputs": [
      {
       "metadata": {},
       "output_type": "pyout",
       "prompt_number": 49,
       "text": [
        "36"
       ]
      }
     ],
     "prompt_number": 49
    },
    {
     "cell_type": "markdown",
     "metadata": {},
     "source": [
      "## Transponieren"
     ]
    },
    {
     "cell_type": "code",
     "collapsed": false,
     "input": [
      "a = np.arange(1,26).reshape(5, 5)\n",
      "a"
     ],
     "language": "python",
     "metadata": {},
     "outputs": [
      {
       "metadata": {},
       "output_type": "pyout",
       "prompt_number": 50,
       "text": [
        "array([[ 1,  2,  3,  4,  5],\n",
        "       [ 6,  7,  8,  9, 10],\n",
        "       [11, 12, 13, 14, 15],\n",
        "       [16, 17, 18, 19, 20],\n",
        "       [21, 22, 23, 24, 25]])"
       ]
      }
     ],
     "prompt_number": 50
    },
    {
     "cell_type": "code",
     "collapsed": false,
     "input": [
      "a.transpose()"
     ],
     "language": "python",
     "metadata": {},
     "outputs": [
      {
       "metadata": {},
       "output_type": "pyout",
       "prompt_number": 51,
       "text": [
        "array([[ 1,  6, 11, 16, 21],\n",
        "       [ 2,  7, 12, 17, 22],\n",
        "       [ 3,  8, 13, 18, 23],\n",
        "       [ 4,  9, 14, 19, 24],\n",
        "       [ 5, 10, 15, 20, 25]])"
       ]
      }
     ],
     "prompt_number": 51
    },
    {
     "cell_type": "code",
     "collapsed": false,
     "input": [
      "a.T  #f\u00fcr faule"
     ],
     "language": "python",
     "metadata": {},
     "outputs": [
      {
       "metadata": {},
       "output_type": "pyout",
       "prompt_number": 52,
       "text": [
        "array([[ 1,  6, 11, 16, 21],\n",
        "       [ 2,  7, 12, 17, 22],\n",
        "       [ 3,  8, 13, 18, 23],\n",
        "       [ 4,  9, 14, 19, 24],\n",
        "       [ 5, 10, 15, 20, 25]])"
       ]
      }
     ],
     "prompt_number": 52
    },
    {
     "cell_type": "markdown",
     "metadata": {},
     "source": [
      "## Auf Eigenschaften von Arrays testen"
     ]
    },
    {
     "cell_type": "code",
     "collapsed": false,
     "input": [
      "a"
     ],
     "language": "python",
     "metadata": {},
     "outputs": [
      {
       "metadata": {},
       "output_type": "pyout",
       "prompt_number": 53,
       "text": [
        "array([[ 1,  2,  3,  4,  5],\n",
        "       [ 6,  7,  8,  9, 10],\n",
        "       [11, 12, 13, 14, 15],\n",
        "       [16, 17, 18, 19, 20],\n",
        "       [21, 22, 23, 24, 25]])"
       ]
      }
     ],
     "prompt_number": 53
    },
    {
     "cell_type": "markdown",
     "metadata": {},
     "source": [
      "Testen ob ein min. ein Element eine Bedingung erf\u00fcllt"
     ]
    },
    {
     "cell_type": "code",
     "collapsed": false,
     "input": [
      "b = a > 20\n",
      "b.any()  # any() ist True, wenn min. ein Element True ist"
     ],
     "language": "python",
     "metadata": {},
     "outputs": [
      {
       "metadata": {},
       "output_type": "pyout",
       "prompt_number": 54,
       "text": [
        "True"
       ]
      }
     ],
     "prompt_number": 54
    },
    {
     "cell_type": "code",
     "collapsed": false,
     "input": [
      "b"
     ],
     "language": "python",
     "metadata": {},
     "outputs": [
      {
       "metadata": {},
       "output_type": "pyout",
       "prompt_number": 55,
       "text": [
        "array([[False, False, False, False, False],\n",
        "       [False, False, False, False, False],\n",
        "       [False, False, False, False, False],\n",
        "       [False, False, False, False, False],\n",
        "       [ True,  True,  True,  True,  True]], dtype=bool)"
       ]
      }
     ],
     "prompt_number": 55
    },
    {
     "cell_type": "code",
     "collapsed": false,
     "input": [],
     "language": "python",
     "metadata": {},
     "outputs": [],
     "prompt_number": 55
    },
    {
     "cell_type": "code",
     "collapsed": false,
     "input": [
      "np.any(a == 0)  # noch einfacher"
     ],
     "language": "python",
     "metadata": {},
     "outputs": [
      {
       "metadata": {},
       "output_type": "pyout",
       "prompt_number": 56,
       "text": [
        "False"
       ]
      }
     ],
     "prompt_number": 56
    },
    {
     "cell_type": "markdown",
     "metadata": {},
     "source": [
      "Testen ob alle Elemente eine Bedingung erf\u00fcllen"
     ]
    },
    {
     "cell_type": "code",
     "collapsed": false,
     "input": [
      "np.all(a > 0)"
     ],
     "language": "python",
     "metadata": {},
     "outputs": [
      {
       "metadata": {},
       "output_type": "pyout",
       "prompt_number": 57,
       "text": [
        "True"
       ]
      }
     ],
     "prompt_number": 57
    },
    {
     "cell_type": "code",
     "collapsed": false,
     "input": [
      "np.all(a % 2 == 0)"
     ],
     "language": "python",
     "metadata": {},
     "outputs": [
      {
       "metadata": {},
       "output_type": "pyout",
       "prompt_number": 58,
       "text": [
        "False"
       ]
      }
     ],
     "prompt_number": 58
    },
    {
     "cell_type": "markdown",
     "metadata": {},
     "source": [
      "### Arrays auf Gleichheit \u00fcberpr\u00fcfen"
     ]
    },
    {
     "cell_type": "code",
     "collapsed": false,
     "input": [
      "a = np.arange(6)\n",
      "b = a.copy()\n",
      "c = np.arange(6).reshape(2, 3)"
     ],
     "language": "python",
     "metadata": {},
     "outputs": [],
     "prompt_number": 59
    },
    {
     "cell_type": "code",
     "collapsed": false,
     "input": [
      "np.array_equal(a, b)  # Testet auf gleiche shape und gleichen Inhalt"
     ],
     "language": "python",
     "metadata": {},
     "outputs": [
      {
       "metadata": {},
       "output_type": "pyout",
       "prompt_number": 60,
       "text": [
        "True"
       ]
      }
     ],
     "prompt_number": 60
    },
    {
     "cell_type": "code",
     "collapsed": false,
     "input": [
      "np.array_equal(a, c)  "
     ],
     "language": "python",
     "metadata": {},
     "outputs": [
      {
       "metadata": {},
       "output_type": "pyout",
       "prompt_number": 61,
       "text": [
        "False"
       ]
      }
     ],
     "prompt_number": 61
    },
    {
     "cell_type": "code",
     "collapsed": false,
     "input": [
      "a = [1, 2]\n",
      "b = [[1, 2], [1, 2]]\n",
      "c = [[1, 2, 1, 2], [1, 2, 1, 2]]"
     ],
     "language": "python",
     "metadata": {},
     "outputs": [],
     "prompt_number": 62
    },
    {
     "cell_type": "markdown",
     "metadata": {},
     "source": [
      "Testen auf Fastgleichheit mit *np.allclose(a, b)*"
     ]
    },
    {
     "cell_type": "code",
     "collapsed": false,
     "input": [
      "a = [1, 2]\n",
      "b = [1.00001, 2]\n",
      "c = [1.0001, 2]"
     ],
     "language": "python",
     "metadata": {},
     "outputs": [],
     "prompt_number": 63
    },
    {
     "cell_type": "code",
     "collapsed": false,
     "input": [
      "np.allclose(a, b)"
     ],
     "language": "python",
     "metadata": {},
     "outputs": [
      {
       "metadata": {},
       "output_type": "pyout",
       "prompt_number": 64,
       "text": [
        "True"
       ]
      }
     ],
     "prompt_number": 64
    },
    {
     "cell_type": "code",
     "collapsed": false,
     "input": [
      "np.allclose(a, c)"
     ],
     "language": "python",
     "metadata": {},
     "outputs": [
      {
       "metadata": {},
       "output_type": "pyout",
       "prompt_number": 65,
       "text": [
        "False"
       ]
      }
     ],
     "prompt_number": 65
    },
    {
     "cell_type": "code",
     "collapsed": false,
     "input": [
      "np.allclose(a, b, atol=1e-10)  # relative Toleranz (default ist 1e-5)"
     ],
     "language": "python",
     "metadata": {},
     "outputs": [
      {
       "metadata": {},
       "output_type": "pyout",
       "prompt_number": 66,
       "text": [
        "True"
       ]
      }
     ],
     "prompt_number": 66
    },
    {
     "cell_type": "code",
     "collapsed": false,
     "input": [
      "# bei nan immer False"
     ],
     "language": "python",
     "metadata": {},
     "outputs": [],
     "prompt_number": 67
    },
    {
     "cell_type": "code",
     "collapsed": false,
     "input": [
      "np.allclose([1.0, np.nan], [1.0, np.nan])"
     ],
     "language": "python",
     "metadata": {},
     "outputs": [
      {
       "metadata": {},
       "output_type": "pyout",
       "prompt_number": 68,
       "text": [
        "False"
       ]
      }
     ],
     "prompt_number": 68
    },
    {
     "cell_type": "markdown",
     "metadata": {},
     "source": [
      "# \u00dcbungen"
     ]
    },
    {
     "cell_type": "markdown",
     "metadata": {},
     "source": [
      "* ziehe von einer 5x5 Matrix (Werte 0 - 25) den eigenen Mittewert ab\n",
      "* normiere die Summe der Matrix auf 1 (und \u00fcberpr\u00fcfe dies)\n",
      "* normalisiere eine Zufallsmatrix (Werte zwischen 0 und 1)\n",
      "* sortiere einen Zufallsarray auf- und absteigend (sort()), kann sort() absteigend sortieren? \n",
      "* spiegel die unter H\u00e4lfte einer 10x10 Matrix (Werte von 1-100) in die obere H\u00e4lfte (np.triu(), np.tril() np.diagonal()\n"
     ]
    },
    {
     "cell_type": "markdown",
     "metadata": {},
     "source": [
      "---\n",
      "<p align=\"center\">Tutorial: Einf\u00fchrung in NumPy von Henning Dickten und Christian Geier, PyCon.DE 2013</p>\n",
      "<p align=\"center\"><a rel=\"license\" href=\"http://creativecommons.org/licenses/by-nc-sa/3.0/deed.de\"><img alt=\"Creative Commons Lizenzvertrag\" style=\"border-width:0\" src=\"http://i.creativecommons.org/l/by-nc-sa/3.0/88x31.png\"/></a></p>\n",
      "\n",
      "<p align=\"center\">Dieses Werk bzw. Inhalt ist lizenziert unter einer <a rel=\"license\" href=\"http://creativecommons.org/licenses/by-nc-sa/3.0/deed.de\">Creative Commons Namensnennung - Nicht-kommerziell - Weitergabe unter gleichen Bedingungen 3.0 Unported Lizenz</a>.</p>\n",
      "\n"
     ]
    }
   ],
   "metadata": {}
  }
 ]
}