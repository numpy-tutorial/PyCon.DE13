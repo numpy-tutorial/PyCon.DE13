{
 "metadata": {
  "name": ""
 },
 "nbformat": 3,
 "nbformat_minor": 0,
 "worksheets": [
  {
   "cells": [
    {
     "cell_type": "markdown",
     "metadata": {},
     "source": [
      "## ziehe von einer 5x5 Matrix (Werte 0 - 25) den eigenen Mittewert ab\n"
     ]
    },
    {
     "cell_type": "code",
     "collapsed": false,
     "input": [
      "import numpy as np"
     ],
     "language": "python",
     "metadata": {},
     "outputs": [],
     "prompt_number": 1
    },
    {
     "cell_type": "code",
     "collapsed": false,
     "input": [
      "a = np.arange(0., 25.).reshape(5, 5)\n",
      "a"
     ],
     "language": "python",
     "metadata": {},
     "outputs": [
      {
       "metadata": {},
       "output_type": "pyout",
       "prompt_number": 2,
       "text": [
        "array([[  0.,   1.,   2.,   3.,   4.],\n",
        "       [  5.,   6.,   7.,   8.,   9.],\n",
        "       [ 10.,  11.,  12.,  13.,  14.],\n",
        "       [ 15.,  16.,  17.,  18.,  19.],\n",
        "       [ 20.,  21.,  22.,  23.,  24.]])"
       ]
      }
     ],
     "prompt_number": 2
    },
    {
     "cell_type": "code",
     "collapsed": false,
     "input": [
      "a - a.mean()"
     ],
     "language": "python",
     "metadata": {},
     "outputs": [
      {
       "metadata": {},
       "output_type": "pyout",
       "prompt_number": 3,
       "text": [
        "array([[-12., -11., -10.,  -9.,  -8.],\n",
        "       [ -7.,  -6.,  -5.,  -4.,  -3.],\n",
        "       [ -2.,  -1.,   0.,   1.,   2.],\n",
        "       [  3.,   4.,   5.,   6.,   7.],\n",
        "       [  8.,   9.,  10.,  11.,  12.]])"
       ]
      }
     ],
     "prompt_number": 3
    },
    {
     "cell_type": "markdown",
     "metadata": {},
     "source": [
      "## normiere die Summe der Matrix auf 1 (und \u00fcberpr\u00fcfe dies)\n"
     ]
    },
    {
     "cell_type": "code",
     "collapsed": false,
     "input": [
      "b = a/a.sum()\n",
      "b"
     ],
     "language": "python",
     "metadata": {},
     "outputs": [
      {
       "metadata": {},
       "output_type": "pyout",
       "prompt_number": 4,
       "text": [
        "array([[ 0.        ,  0.00333333,  0.00666667,  0.01      ,  0.01333333],\n",
        "       [ 0.01666667,  0.02      ,  0.02333333,  0.02666667,  0.03      ],\n",
        "       [ 0.03333333,  0.03666667,  0.04      ,  0.04333333,  0.04666667],\n",
        "       [ 0.05      ,  0.05333333,  0.05666667,  0.06      ,  0.06333333],\n",
        "       [ 0.06666667,  0.07      ,  0.07333333,  0.07666667,  0.08      ]])"
       ]
      }
     ],
     "prompt_number": 4
    },
    {
     "cell_type": "code",
     "collapsed": false,
     "input": [
      "b.sum()"
     ],
     "language": "python",
     "metadata": {},
     "outputs": [
      {
       "metadata": {},
       "output_type": "pyout",
       "prompt_number": 5,
       "text": [
        "1.0"
       ]
      }
     ],
     "prompt_number": 5
    },
    {
     "cell_type": "markdown",
     "metadata": {},
     "source": [
      "## normalisiere eine Zufallsmatrix (Werte zwischen 0 und 1)\n"
     ]
    },
    {
     "cell_type": "code",
     "collapsed": false,
     "input": [
      "a = np.random.random((10, 10))\n",
      "a = (a - a.min())/(a.max() - a.min())\n",
      "a"
     ],
     "language": "python",
     "metadata": {},
     "outputs": [
      {
       "metadata": {},
       "output_type": "pyout",
       "prompt_number": 6,
       "text": [
        "array([[ 0.86821263,  0.08315517,  0.52315932,  0.21703942,  0.43977391,\n",
        "         0.64479169,  0.34395329,  0.06378852,  0.91153062,  0.05385275],\n",
        "       [ 0.68843064,  0.19742984,  0.47926833,  0.24535451,  0.25314961,\n",
        "         0.30632164,  0.74267808,  0.58195037,  0.86509958,  0.22569264],\n",
        "       [ 0.22961528,  0.22072658,  0.68816923,  0.71703696,  0.1297171 ,\n",
        "         0.82225116,  0.10575098,  0.41390552,  0.62796198,  0.09827125],\n",
        "       [ 0.22432582,  0.75885591,  0.96576539,  0.21578337,  0.59587593,\n",
        "         0.85242234,  0.1114185 ,  0.91296397,  0.19227315,  0.40711727],\n",
        "       [ 0.58597731,  0.82328656,  0.79165047,  0.28106925,  0.81640939,\n",
        "         0.14338297,  0.        ,  0.94411318,  0.29700919,  0.02659697],\n",
        "       [ 0.18511492,  0.91442418,  0.90052033,  0.26127069,  0.88778009,\n",
        "         0.58800092,  0.46260671,  0.13726381,  0.20438493,  0.96857203],\n",
        "       [ 0.88483758,  0.45522049,  0.49211763,  0.20232166,  0.6689858 ,\n",
        "         0.87655546,  0.97230423,  0.04677876,  0.56687647,  0.42732063],\n",
        "       [ 0.6022082 ,  0.9694343 ,  0.44559996,  0.42956119,  0.83341155,\n",
        "         0.55603645,  0.62644482,  0.74442256,  0.89161076,  0.88421906],\n",
        "       [ 0.68386511,  0.05362058,  0.62572477,  0.4974382 ,  1.        ,\n",
        "         0.19967081,  0.7977626 ,  0.65942829,  0.83601955,  0.43624276],\n",
        "       [ 0.53755054,  0.49415698,  0.91263918,  0.41650714,  0.09133434,\n",
        "         0.92573949,  0.81043661,  0.89988526,  0.4707555 ,  0.41274542]])"
       ]
      }
     ],
     "prompt_number": 6
    },
    {
     "cell_type": "markdown",
     "metadata": {},
     "source": [
      "## sortiere einen Zufallsarray auf- und absteigend"
     ]
    },
    {
     "cell_type": "code",
     "collapsed": false,
     "input": [
      "a = np.random.random(10)\n",
      "a"
     ],
     "language": "python",
     "metadata": {},
     "outputs": [
      {
       "metadata": {},
       "output_type": "pyout",
       "prompt_number": 7,
       "text": [
        "array([ 0.04098656,  0.13063202,  0.29632884,  0.04674068,  0.52404677,\n",
        "        0.80291392,  0.21766731,  0.39343573,  0.6823589 ,  0.83057014])"
       ]
      }
     ],
     "prompt_number": 7
    },
    {
     "cell_type": "code",
     "collapsed": false,
     "input": [
      "a.sort()\n",
      "a"
     ],
     "language": "python",
     "metadata": {},
     "outputs": [
      {
       "metadata": {},
       "output_type": "pyout",
       "prompt_number": 8,
       "text": [
        "array([ 0.04098656,  0.04674068,  0.13063202,  0.21766731,  0.29632884,\n",
        "        0.39343573,  0.52404677,  0.6823589 ,  0.80291392,  0.83057014])"
       ]
      }
     ],
     "prompt_number": 8
    },
    {
     "cell_type": "code",
     "collapsed": false,
     "input": [
      "a[::-1]"
     ],
     "language": "python",
     "metadata": {},
     "outputs": [
      {
       "metadata": {},
       "output_type": "pyout",
       "prompt_number": 9,
       "text": [
        "array([ 0.83057014,  0.80291392,  0.6823589 ,  0.52404677,  0.39343573,\n",
        "        0.29632884,  0.21766731,  0.13063202,  0.04674068,  0.04098656])"
       ]
      }
     ],
     "prompt_number": 9
    },
    {
     "cell_type": "markdown",
     "metadata": {},
     "source": [
      "## N\u00e4chste Aufgabe"
     ]
    },
    {
     "cell_type": "code",
     "collapsed": false,
     "input": [
      "\n",
      "a = np.arange(1, 101).reshape(10, 10)\n",
      "untere = np.tril(a, -1)                                         \n",
      "sym = untere.T + unt\n",
      "ere + np.diagonal(a) * np.identity(10)\n",
      "print a\n",
      "print untere\n",
      "print sym"
     ],
     "language": "python",
     "metadata": {},
     "outputs": [
      {
       "ename": "NameError",
       "evalue": "name 'unt' is not defined",
       "output_type": "pyerr",
       "traceback": [
        "\u001b[1;31m---------------------------------------------------------------------------\u001b[0m\n\u001b[1;31mNameError\u001b[0m                                 Traceback (most recent call last)",
        "\u001b[1;32m<ipython-input-10-df05c916aaf3>\u001b[0m in \u001b[0;36m<module>\u001b[1;34m()\u001b[0m\n\u001b[0;32m      2\u001b[0m \u001b[0ma\u001b[0m \u001b[1;33m=\u001b[0m \u001b[0mnp\u001b[0m\u001b[1;33m.\u001b[0m\u001b[0marange\u001b[0m\u001b[1;33m(\u001b[0m\u001b[1;36m1\u001b[0m\u001b[1;33m,\u001b[0m \u001b[1;36m101\u001b[0m\u001b[1;33m)\u001b[0m\u001b[1;33m.\u001b[0m\u001b[0mreshape\u001b[0m\u001b[1;33m(\u001b[0m\u001b[1;36m10\u001b[0m\u001b[1;33m,\u001b[0m \u001b[1;36m10\u001b[0m\u001b[1;33m)\u001b[0m\u001b[1;33m\u001b[0m\u001b[0m\n\u001b[0;32m      3\u001b[0m \u001b[0muntere\u001b[0m \u001b[1;33m=\u001b[0m \u001b[0mnp\u001b[0m\u001b[1;33m.\u001b[0m\u001b[0mtril\u001b[0m\u001b[1;33m(\u001b[0m\u001b[0ma\u001b[0m\u001b[1;33m,\u001b[0m \u001b[1;33m-\u001b[0m\u001b[1;36m1\u001b[0m\u001b[1;33m)\u001b[0m\u001b[1;33m\u001b[0m\u001b[0m\n\u001b[1;32m----> 4\u001b[1;33m \u001b[0msym\u001b[0m \u001b[1;33m=\u001b[0m \u001b[0muntere\u001b[0m\u001b[1;33m.\u001b[0m\u001b[0mT\u001b[0m \u001b[1;33m+\u001b[0m \u001b[0munt\u001b[0m\u001b[1;33m\u001b[0m\u001b[0m\n\u001b[0m\u001b[0;32m      5\u001b[0m \u001b[0mere\u001b[0m \u001b[1;33m+\u001b[0m \u001b[0mnp\u001b[0m\u001b[1;33m.\u001b[0m\u001b[0mdiagonal\u001b[0m\u001b[1;33m(\u001b[0m\u001b[0ma\u001b[0m\u001b[1;33m)\u001b[0m \u001b[1;33m*\u001b[0m \u001b[0mnp\u001b[0m\u001b[1;33m.\u001b[0m\u001b[0midentity\u001b[0m\u001b[1;33m(\u001b[0m\u001b[1;36m10\u001b[0m\u001b[1;33m)\u001b[0m\u001b[1;33m\u001b[0m\u001b[0m\n\u001b[0;32m      6\u001b[0m \u001b[1;32mprint\u001b[0m \u001b[0ma\u001b[0m\u001b[1;33m\u001b[0m\u001b[0m\n",
        "\u001b[1;31mNameError\u001b[0m: name 'unt' is not defined"
       ]
      }
     ],
     "prompt_number": 10
    },
    {
     "cell_type": "code",
     "collapsed": false,
     "input": [
      "imshow(a)"
     ],
     "language": "python",
     "metadata": {},
     "outputs": []
    },
    {
     "cell_type": "code",
     "collapsed": false,
     "input": [
      "imshow(sym)"
     ],
     "language": "python",
     "metadata": {},
     "outputs": []
    },
    {
     "cell_type": "markdown",
     "metadata": {},
     "source": [
      "---\n",
      "<p align=\"center\">Tutorial: Einf\u00fchrung in NumPy von Henning Dickten und Christian Geier, PyCon.DE 2013</p>\n",
      "<p align=\"center\"><a rel=\"license\" href=\"http://creativecommons.org/licenses/by-nc-sa/3.0/deed.de\"><img alt=\"Creative Commons Lizenzvertrag\" style=\"border-width:0\" src=\"http://i.creativecommons.org/l/by-nc-sa/3.0/88x31.png\"/></a></p>\n",
      "\n",
      "<p align=\"center\">Dieses Werk bzw. Inhalt ist lizenziert unter einer <a rel=\"license\" href=\"http://creativecommons.org/licenses/by-nc-sa/3.0/deed.de\">Creative Commons Namensnennung - Nicht-kommerziell - Weitergabe unter gleichen Bedingungen 3.0 Unported Lizenz</a>.</p>\n",
      "\n"
     ]
    }
   ],
   "metadata": {}
  }
 ]
}