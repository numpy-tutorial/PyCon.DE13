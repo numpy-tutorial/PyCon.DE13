{
 "metadata": {
  "name": ""
 },
 "nbformat": 3,
 "nbformat_minor": 0,
 "worksheets": [
  {
   "cells": [
    {
     "cell_type": "markdown",
     "metadata": {
      "slideshow": {
       "slide_type": "slide"
      }
     },
     "source": [
      "# Broadcasting\n",
      "\n",
      "## Intelligente Operationen mit arrays unterschiedlicher Form"
     ]
    },
    {
     "cell_type": "code",
     "collapsed": false,
     "input": [
      "import numpy as np"
     ],
     "language": "python",
     "metadata": {},
     "outputs": [],
     "prompt_number": 7
    },
    {
     "cell_type": "markdown",
     "metadata": {},
     "source": [
      "## Einfachstes Beispiel, bei dem Broadcasting auftritt:"
     ]
    },
    {
     "cell_type": "code",
     "collapsed": false,
     "input": [
      "arr1 = np.arange(10)\n",
      "\n",
      "# Multiplikation aller Eintr\u00e4ge von arr1 mit Skalar\n",
      "arr1 * 2"
     ],
     "language": "python",
     "metadata": {},
     "outputs": [
      {
       "metadata": {},
       "output_type": "pyout",
       "prompt_number": 8,
       "text": [
        "array([ 0,  2,  4,  6,  8, 10, 12, 14, 16, 18])"
       ]
      }
     ],
     "prompt_number": 8
    },
    {
     "cell_type": "markdown",
     "metadata": {
      "slideshow": {
       "slide_type": "subslide"
      }
     },
     "source": [
      "## Beispiel: Bereinigung um Mittelwert"
     ]
    },
    {
     "cell_type": "code",
     "collapsed": false,
     "input": [
      "arr = (np.random.rand(2, 5) * 10).astype(np.int)\n",
      "arr"
     ],
     "language": "python",
     "metadata": {},
     "outputs": [
      {
       "metadata": {},
       "output_type": "pyout",
       "prompt_number": 9,
       "text": [
        "array([[9, 2, 4, 2, 2],\n",
        "       [3, 2, 2, 0, 4]])"
       ]
      }
     ],
     "prompt_number": 9
    },
    {
     "cell_type": "code",
     "collapsed": false,
     "input": [
      "arr_mean = arr.mean(axis=0)\n",
      "arr_mean"
     ],
     "language": "python",
     "metadata": {},
     "outputs": [
      {
       "metadata": {},
       "output_type": "pyout",
       "prompt_number": 10,
       "text": [
        "array([ 6.,  2.,  3.,  1.,  3.])"
       ]
      }
     ],
     "prompt_number": 10
    },
    {
     "cell_type": "code",
     "collapsed": false,
     "input": [
      "# shapes:\n",
      "print(arr.shape)\n",
      "print(arr_mean.shape)"
     ],
     "language": "python",
     "metadata": {},
     "outputs": [
      {
       "output_type": "stream",
       "stream": "stdout",
       "text": [
        "(2, 5)\n",
        "(5,)\n"
       ]
      }
     ],
     "prompt_number": 11
    },
    {
     "cell_type": "code",
     "collapsed": false,
     "input": [
      "# demean:\n",
      "arr - arr_mean"
     ],
     "language": "python",
     "metadata": {},
     "outputs": [
      {
       "metadata": {},
       "output_type": "pyout",
       "prompt_number": 12,
       "text": [
        "array([[ 3.,  0.,  1.,  1., -1.],\n",
        "       [-3.,  0., -1., -1.,  1.]])"
       ]
      }
     ],
     "prompt_number": 12
    },
    {
     "cell_type": "markdown",
     "metadata": {
      "slideshow": {
       "slide_type": "subslide"
      }
     },
     "source": [
      "## Regeln f\u00fcr das automatische Broadcasten\n",
      "\n",
      "#### Arrays sind kompatibel f\u00fcr ein Broadcast, wenn\n",
      "- die Form (shape) der arrays identisch ist\n",
      "ODER\n",
      "- einem array die erste Dimension fehlt und sonst die gleiche Form aufweist\n",
      "ODER\n",
      "- die Form bis auf einen Eintrag gleich ist. Dieser Eintrag MUSS dann bei einem array \"1\" sein\n",
      "\n",
      "\n",
      "#### Broadcasting wird \u00fcber die fehlende Dimension oder die der L\u00e4nge 1 durchgef\u00fchrt\n",
      "\n"
     ]
    },
    {
     "cell_type": "markdown",
     "metadata": {
      "slideshow": {
       "slide_type": "subslide"
      }
     },
     "source": [
      "### Beispiel 1: Broadcasting von 2-dimensionalen arrays\n",
      "![broadcasting_1](files/broadcasting_1.png \"broadcasting_1\")"
     ]
    },
    {
     "cell_type": "code",
     "collapsed": false,
     "input": [
      "arr1 = np.arange(1, 7).reshape(3, 2)\n",
      "arr2 = np.arange(3).reshape(3, 1)"
     ],
     "language": "python",
     "metadata": {
      "slideshow": {
       "slide_type": "-"
      }
     },
     "outputs": [],
     "prompt_number": 13
    },
    {
     "cell_type": "code",
     "collapsed": false,
     "input": [
      "arr1 + arr2"
     ],
     "language": "python",
     "metadata": {
      "slideshow": {
       "slide_type": "fragment"
      }
     },
     "outputs": [
      {
       "metadata": {},
       "output_type": "pyout",
       "prompt_number": 14,
       "text": [
        "array([[1, 2],\n",
        "       [4, 5],\n",
        "       [7, 8]])"
       ]
      }
     ],
     "prompt_number": 14
    },
    {
     "cell_type": "markdown",
     "metadata": {
      "slideshow": {
       "slide_type": "subslide"
      }
     },
     "source": [
      "### Beispiel 2: Broadcasting von 2-dimensionalen arrays\n",
      "![broadcasting_2](files/broadcasting_2.png \"broadcasting_2\")"
     ]
    },
    {
     "cell_type": "code",
     "collapsed": false,
     "input": [
      "arr1 = np.arange(1, 7).reshape(3, 2)\n",
      "arr2 = np.arange(2)"
     ],
     "language": "python",
     "metadata": {
      "slideshow": {
       "slide_type": "-"
      }
     },
     "outputs": [],
     "prompt_number": 15
    },
    {
     "cell_type": "code",
     "collapsed": false,
     "input": [
      "arr1 + arr2"
     ],
     "language": "python",
     "metadata": {},
     "outputs": [
      {
       "metadata": {},
       "output_type": "pyout",
       "prompt_number": 16,
       "text": [
        "array([[1, 3],\n",
        "       [3, 5],\n",
        "       [5, 7]])"
       ]
      }
     ],
     "prompt_number": 16
    },
    {
     "cell_type": "markdown",
     "metadata": {
      "slideshow": {
       "slide_type": "subslide"
      }
     },
     "source": [
      "### Beispiel 3: Broadcasting von 3-dimensionalen arrays\n",
      "![broadcasting_3](files/broadcasting_3.png \"broadcasting_3\")"
     ]
    },
    {
     "cell_type": "code",
     "collapsed": false,
     "input": [
      "arr1 = np.arange(1, 31).reshape(5, 3, 2)\n",
      "arr2 = np.arange(5, -1, -1).reshape(3, 2)\n",
      "arr1 + arr2"
     ],
     "language": "python",
     "metadata": {},
     "outputs": [
      {
       "metadata": {},
       "output_type": "pyout",
       "prompt_number": 17,
       "text": [
        "array([[[ 6,  6],\n",
        "        [ 6,  6],\n",
        "        [ 6,  6]],\n",
        "\n",
        "       [[12, 12],\n",
        "        [12, 12],\n",
        "        [12, 12]],\n",
        "\n",
        "       [[18, 18],\n",
        "        [18, 18],\n",
        "        [18, 18]],\n",
        "\n",
        "       [[24, 24],\n",
        "        [24, 24],\n",
        "        [24, 24]],\n",
        "\n",
        "       [[30, 30],\n",
        "        [30, 30],\n",
        "        [30, 30]]])"
       ]
      }
     ],
     "prompt_number": 17
    },
    {
     "cell_type": "markdown",
     "metadata": {
      "slideshow": {
       "slide_type": "subslide"
      }
     },
     "source": [
      "### Broadcasting entlang einer beliebigen Achse"
     ]
    },
    {
     "cell_type": "code",
     "collapsed": false,
     "input": [
      "arr = (np.random.rand(2, 5) * 10).astype(np.int)\n",
      "arr_mean_0 = arr.mean(axis=0)\n",
      "arr_mean_1 = arr.mean(axis=1)\n",
      "\n",
      "print(\"arr:\\n{}, shape={}\\n\".format(arr, arr.shape))\n",
      "print(\"axis={}:\\n{}, shape={}\\n\".format(0, arr_mean_0, arr_mean_0.shape))\n",
      "print(\"axis={}:\\n{}, shape={}\\n\".format(1, arr_mean_1, arr_mean_1.shape))"
     ],
     "language": "python",
     "metadata": {},
     "outputs": [
      {
       "output_type": "stream",
       "stream": "stdout",
       "text": [
        "arr:\n",
        "[[3 4 0 7 9]\n",
        " [0 9 4 6 5]], shape=(2, 5)\n",
        "\n",
        "axis=0:\n",
        "[ 1.5  6.5  2.   6.5  7. ], shape=(5,)\n",
        "\n",
        "axis=1:\n",
        "[ 4.6  4.8], shape=(2,)\n",
        "\n"
       ]
      }
     ],
     "prompt_number": 18
    },
    {
     "cell_type": "markdown",
     "metadata": {},
     "source": [
      "**Problem:** arr_mean_1 weist falsche Form f\u00fcr Broadcasting auf!  \n",
      "    shape = (2,) != (2,1) != (2,5) != (, 5)"
     ]
    },
    {
     "cell_type": "code",
     "collapsed": false,
     "input": [
      "arr - arr_mean_1"
     ],
     "language": "python",
     "metadata": {},
     "outputs": [
      {
       "ename": "ValueError",
       "evalue": "operands could not be broadcast together with shapes (2,5) (2) ",
       "output_type": "pyerr",
       "traceback": [
        "\u001b[1;31m---------------------------------------------------------------------------\u001b[0m\n\u001b[1;31mValueError\u001b[0m                                Traceback (most recent call last)",
        "\u001b[1;32m<ipython-input-19-134f370bec5b>\u001b[0m in \u001b[0;36m<module>\u001b[1;34m()\u001b[0m\n\u001b[1;32m----> 1\u001b[1;33m \u001b[0marr\u001b[0m \u001b[1;33m-\u001b[0m \u001b[0marr_mean_1\u001b[0m\u001b[1;33m\u001b[0m\u001b[0m\n\u001b[0m",
        "\u001b[1;31mValueError\u001b[0m: operands could not be broadcast together with shapes (2,5) (2) "
       ]
      }
     ],
     "prompt_number": 19
    },
    {
     "cell_type": "markdown",
     "metadata": {},
     "source": [
      "**L\u00f6sung:** K\u00fcnstliches einf\u00fchren einer zus\u00e4tzlichen Achse"
     ]
    },
    {
     "cell_type": "code",
     "collapsed": false,
     "input": [
      "arr_new_mean_1 = arr_mean_1[:, np.newaxis]\n",
      "\n",
      "print(\"shape: {}\".format(arr_new_mean_1.shape))\n",
      "\n",
      "arr_new_mean_1"
     ],
     "language": "python",
     "metadata": {},
     "outputs": [
      {
       "output_type": "stream",
       "stream": "stdout",
       "text": [
        "shape: (2, 1)\n"
       ]
      },
      {
       "metadata": {},
       "output_type": "pyout",
       "prompt_number": 22,
       "text": [
        "array([[ 4.6],\n",
        "       [ 4.8]])"
       ]
      }
     ],
     "prompt_number": 22
    },
    {
     "cell_type": "code",
     "collapsed": false,
     "input": [
      "arr - arr_new_mean_1"
     ],
     "language": "python",
     "metadata": {},
     "outputs": [
      {
       "metadata": {},
       "output_type": "pyout",
       "prompt_number": 23,
       "text": [
        "array([[-1.6, -0.6, -4.6,  2.4,  4.4],\n",
        "       [-4.8,  4.2, -0.8,  1.2,  0.2]])"
       ]
      }
     ],
     "prompt_number": 23
    },
    {
     "cell_type": "markdown",
     "metadata": {
      "slideshow": {
       "slide_type": "slide"
      }
     },
     "source": [
      "---\n",
      "# \u00dcbungen"
     ]
    },
    {
     "cell_type": "markdown",
     "metadata": {},
     "source": [
      "Erzeuge folgendes array:\n",
      "  \n",
      "\n",
      "    array([[0, 0, 0, 0],\n",
      "           [1, 1, 1, 1],\n",
      "           [2, 2, 2, 2],\n",
      "           [3, 3, 3, 3],\n",
      "           [4, 4, 4, 4],\n",
      "           [5, 5, 5, 5],\n",
      "           [6, 6, 6, 6]])"
     ]
    },
    {
     "cell_type": "code",
     "collapsed": false,
     "input": [],
     "language": "python",
     "metadata": {},
     "outputs": [],
     "prompt_number": 20
    },
    {
     "cell_type": "markdown",
     "metadata": {},
     "source": [
      "Erzeuge folgendes array:\n",
      "\n",
      "\n",
      "    array([[6, 0, 0, 0, 0],\n",
      "           [0, 5, 0, 0, 0],\n",
      "           [0, 0, 4, 0, 0],\n",
      "           [0, 0, 0, 3, 0],\n",
      "           [0, 0, 0, 0, 2]])\n"
     ]
    },
    {
     "cell_type": "code",
     "collapsed": false,
     "input": [],
     "language": "python",
     "metadata": {},
     "outputs": [],
     "prompt_number": 20
    },
    {
     "cell_type": "markdown",
     "metadata": {},
     "source": [
      "Ziehe von folgendem array den median entlang **aller** Achse ab:"
     ]
    },
    {
     "cell_type": "code",
     "collapsed": false,
     "input": [
      "data = (np.random.rand(60) * 10).astype(np.int).reshape(4, 3, 5)"
     ],
     "language": "python",
     "metadata": {},
     "outputs": [],
     "prompt_number": 21
    },
    {
     "cell_type": "code",
     "collapsed": false,
     "input": [],
     "language": "python",
     "metadata": {},
     "outputs": [],
     "prompt_number": 21
    },
    {
     "cell_type": "markdown",
     "metadata": {},
     "source": [
      "- Erzeuge f\u00fcnf Sinussignale im Interval $[0, 6 \\pi), bestehend aus 200 Datenpunkten\n",
      "- Addiere jeweils Gauss-verteiltes Rauschen mit einem Vorfaktor von 0.1\n",
      "- Setze den Mittelwert der Signale auf 0, 2, 4, 6, 8"
     ]
    },
    {
     "cell_type": "code",
     "collapsed": false,
     "input": [],
     "language": "python",
     "metadata": {},
     "outputs": [],
     "prompt_number": 21
    },
    {
     "cell_type": "markdown",
     "metadata": {},
     "source": [
      "- Renormiere die Signale auf [-1, 1]"
     ]
    },
    {
     "cell_type": "code",
     "collapsed": false,
     "input": [],
     "language": "python",
     "metadata": {},
     "outputs": [],
     "prompt_number": 21
    },
    {
     "cell_type": "markdown",
     "metadata": {},
     "source": [
      "---\n",
      "<p align=\"center\">Tutorial: Einf\u00fchrung in NumPy von Henning Dickten und Christian Geier, PyCon.DE 2013</p>\n",
      "<p align=\"center\"><a rel=\"license\" href=\"http://creativecommons.org/licenses/by-nc-sa/3.0/deed.de\"><img alt=\"Creative Commons Lizenzvertrag\" style=\"border-width:0\" src=\"http://i.creativecommons.org/l/by-nc-sa/3.0/88x31.png\"/></a></p>\n",
      "\n",
      "<p align=\"center\">Dieses Werk bzw. Inhalt ist lizenziert unter einer <a rel=\"license\" href=\"http://creativecommons.org/licenses/by-nc-sa/3.0/deed.de\">Creative Commons Namensnennung - Nicht-kommerziell - Weitergabe unter gleichen Bedingungen 3.0 Unported Lizenz</a>.</p>\n",
      "\n"
     ]
    }
   ],
   "metadata": {}
  }
 ]
}