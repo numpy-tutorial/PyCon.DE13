{
 "metadata": {
  "name": ""
 },
 "nbformat": 3,
 "nbformat_minor": 0,
 "worksheets": [
  {
   "cells": [
    {
     "cell_type": "markdown",
     "metadata": {
      "slideshow": {
       "slide_type": "slide"
      }
     },
     "source": [
      "# Ein- und Ausgabe von Daten\n",
      "## CSV Dateien laden"
     ]
    },
    {
     "cell_type": "code",
     "collapsed": false,
     "input": [
      "import numpy as np\n",
      "import tempfile\n",
      "\n",
      "from os.path import join\n",
      "\n",
      "temp = tempfile.gettempdir()\n",
      "\n",
      "# Datei via shell anzeigen\n",
      "!cat 'files/testfile_1.csv'"
     ],
     "language": "python",
     "metadata": {
      "slideshow": {
       "slide_type": "-"
      }
     },
     "outputs": [
      {
       "output_type": "stream",
       "stream": "stdout",
       "text": [
        "1,1.1,123\r\n",
        "2,2.2,456\r\n",
        "3,3.3,789\r\n",
        "4,4.4,654\r\n",
        "5,5.5,321\r\n"
       ]
      }
     ],
     "prompt_number": 7
    },
    {
     "cell_type": "code",
     "collapsed": false,
     "input": [
      "csv_data = np.loadtxt(join('files', 'testfile_1.csv'), delimiter=',')\n",
      "csv_data"
     ],
     "language": "python",
     "metadata": {
      "slideshow": {
       "slide_type": "-"
      }
     },
     "outputs": [
      {
       "metadata": {},
       "output_type": "pyout",
       "prompt_number": 8,
       "text": [
        "array([[   1. ,    1.1,  123. ],\n",
        "       [   2. ,    2.2,  456. ],\n",
        "       [   3. ,    3.3,  789. ],\n",
        "       [   4. ,    4.4,  654. ],\n",
        "       [   5. ,    5.5,  321. ]])"
       ]
      }
     ],
     "prompt_number": 8
    },
    {
     "cell_type": "code",
     "collapsed": false,
     "input": [
      "# csv mit bestimmten Datentyp einlesen:\n",
      "csv_data = np.loadtxt(join('files', 'testfile_1.csv'), delimiter=',', dtype=\"int, float, int\")\n",
      "csv_data  # attention: result is (structured) record-ndarray"
     ],
     "language": "python",
     "metadata": {
      "slideshow": {
       "slide_type": "fragment"
      }
     },
     "outputs": [
      {
       "metadata": {},
       "output_type": "pyout",
       "prompt_number": 9,
       "text": [
        "array([(1, 1.1, 123), (2, 2.2, 456), (3, 3.3, 789), (4, 4.4, 654),\n",
        "       (5, 5.5, 321)], \n",
        "      dtype=[('f0', '<i8'), ('f1', '<f8'), ('f2', '<i8')])"
       ]
      }
     ],
     "prompt_number": 9
    },
    {
     "cell_type": "markdown",
     "metadata": {
      "slideshow": {
       "slide_type": "subslide"
      }
     },
     "source": [
      "## CSV mit Kopfzeile"
     ]
    },
    {
     "cell_type": "code",
     "collapsed": false,
     "input": [
      "!cat 'files/testfile_2.csv'"
     ],
     "language": "python",
     "metadata": {
      "slideshow": {
       "slide_type": "-"
      }
     },
     "outputs": [
      {
       "output_type": "stream",
       "stream": "stdout",
       "text": [
        "#foo\tbar\tabc\r\n",
        "1\t1.1\t123\r\n",
        "2\t2.2\t456\r\n",
        "3\t3.3\t789\r\n",
        "4\t4.4\t654\r\n",
        "5\t5.5\t321\r\n"
       ]
      }
     ],
     "prompt_number": 10
    },
    {
     "cell_type": "code",
     "collapsed": false,
     "input": [
      "np.loadtxt(join('files', 'testfile_2.csv'), delimiter='\\t', skiprows=1)"
     ],
     "language": "python",
     "metadata": {},
     "outputs": [
      {
       "metadata": {},
       "output_type": "pyout",
       "prompt_number": 11,
       "text": [
        "array([[   1. ,    1.1,  123. ],\n",
        "       [   2. ,    2.2,  456. ],\n",
        "       [   3. ,    3.3,  789. ],\n",
        "       [   4. ,    4.4,  654. ],\n",
        "       [   5. ,    5.5,  321. ]])"
       ]
      }
     ],
     "prompt_number": 11
    },
    {
     "cell_type": "markdown",
     "metadata": {
      "slideshow": {
       "slide_type": "subslide"
      }
     },
     "source": [
      "## CSV mit Kopfzeile und Kommentaren"
     ]
    },
    {
     "cell_type": "code",
     "collapsed": false,
     "input": [
      "!cat files/testfile_3.csv"
     ],
     "language": "python",
     "metadata": {
      "slideshow": {
       "slide_type": "-"
      }
     },
     "outputs": [
      {
       "output_type": "stream",
       "stream": "stdout",
       "text": [
        "#foo\tbar\tabc\r\n",
        "1\t1.1\t123\r\n",
        "2\t2.2\t456\r\n",
        "3\t3.3\t789 # some comment\r\n",
        "4\t4.4\t654\r\n",
        "5\t5.5\t321 # some other comment\r\n"
       ]
      }
     ],
     "prompt_number": 12
    },
    {
     "cell_type": "code",
     "collapsed": false,
     "input": [
      "# genfromtext bietet mehr Funktionen!\n",
      "data = np.genfromtxt(join('files', 'testfile_3.csv'), delimiter='\\t', names=True, comments='#')\n",
      "data"
     ],
     "language": "python",
     "metadata": {
      "slideshow": {
       "slide_type": "-"
      }
     },
     "outputs": [
      {
       "metadata": {},
       "output_type": "pyout",
       "prompt_number": 13,
       "text": [
        "array([(1.0, 1.1, 123.0), (2.0, 2.2, 456.0), (3.0, 3.3, 789.0),\n",
        "       (4.0, 4.4, 654.0), (5.0, 5.5, 321.0)], \n",
        "      dtype=[('foo', '<f8'), ('bar', '<f8'), ('abc', '<f8')])"
       ]
      }
     ],
     "prompt_number": 13
    },
    {
     "cell_type": "code",
     "collapsed": false,
     "input": [
      "data['foo']"
     ],
     "language": "python",
     "metadata": {},
     "outputs": [
      {
       "metadata": {},
       "output_type": "pyout",
       "prompt_number": 14,
       "text": [
        "array([ 1.,  2.,  3.,  4.,  5.])"
       ]
      }
     ],
     "prompt_number": 14
    },
    {
     "cell_type": "markdown",
     "metadata": {
      "slideshow": {
       "slide_type": "subslide"
      }
     },
     "source": [
      "## CSV mit Fehlwerten"
     ]
    },
    {
     "cell_type": "code",
     "collapsed": false,
     "input": [
      "!cat files/testfile_4.csv"
     ],
     "language": "python",
     "metadata": {
      "slideshow": {
       "slide_type": "-"
      }
     },
     "outputs": [
      {
       "output_type": "stream",
       "stream": "stdout",
       "text": [
        "#foo\tbar\tname\r\n",
        "1\t1.1\tdexter\r\n",
        "N/A\t2.2\theisenberg\r\n",
        "3\t3.3\t???\r\n",
        "4\tN/A\ttyrion\r\n",
        "5\t5.5\tsookie\r\n"
       ]
      }
     ],
     "prompt_number": 15
    },
    {
     "cell_type": "code",
     "collapsed": false,
     "input": [
      "np.genfromtxt(join('files', 'testfile_4.csv'),\n",
      "              delimiter='\\t', \n",
      "              names='foo,bar,names',\n",
      "              dtype='int, float, S10',\n",
      "              autostrip=True,\n",
      "              missing_values={0:'N/A', 1:'N/A', 2:'???'},\n",
      "              filling_values={0:-9999, 1:np.nan, 2:'???'}\n",
      "              )"
     ],
     "language": "python",
     "metadata": {
      "slideshow": {
       "slide_type": "-"
      }
     },
     "outputs": [
      {
       "metadata": {},
       "output_type": "pyout",
       "prompt_number": 16,
       "text": [
        "array([(1, 1.1, 'dexter'), (-9999, 2.2, 'heisenberg'), (3, 3.3, '???'),\n",
        "       (4, nan, 'tyrion'), (5, 5.5, 'sookie')], \n",
        "      dtype=[('foo', '<i8'), ('bar', '<f8'), ('names', '|S10')])"
       ]
      }
     ],
     "prompt_number": 16
    },
    {
     "cell_type": "markdown",
     "metadata": {
      "slideshow": {
       "slide_type": "subslide"
      }
     },
     "source": [
      "## Dateien als CSV speichern"
     ]
    },
    {
     "cell_type": "code",
     "collapsed": false,
     "input": [
      "testfile = join(temp, 'test.csv')\n",
      "\n",
      "np.savetxt(testfile, np.random.rand(7, 3) * 10, fmt='%i, %2.3f, %i')\n",
      "\n",
      "!cat $testfile"
     ],
     "language": "python",
     "metadata": {
      "slideshow": {
       "slide_type": "-"
      }
     },
     "outputs": [
      {
       "output_type": "stream",
       "stream": "stdout",
       "text": [
        "7, 9.691, 1\r\n",
        "1, 9.999, 1\r\n",
        "5, 8.800, 9\r\n",
        "4, 9.670, 7\r\n",
        "6, 6.585, 6\r\n",
        "0, 2.547, 1\r\n",
        "7, 0.657, 4\r\n"
       ]
      }
     ],
     "prompt_number": 17
    },
    {
     "cell_type": "markdown",
     "metadata": {
      "slideshow": {
       "slide_type": "subslide"
      }
     },
     "source": [
      "### Laden und Speichern von Daten im Bin\u00e4rformat"
     ]
    },
    {
     "cell_type": "code",
     "collapsed": false,
     "input": [
      "testfile = join(temp, 'test.npy')\n",
      "\n",
      "np.save(testfile, np.random.rand(7, 3))\n",
      "\n",
      "np.load(testfile)"
     ],
     "language": "python",
     "metadata": {},
     "outputs": [
      {
       "metadata": {},
       "output_type": "pyout",
       "prompt_number": 18,
       "text": [
        "array([[ 0.15169597,  0.78688066,  0.77721423],\n",
        "       [ 0.97701625,  0.75860077,  0.64546801],\n",
        "       [ 0.9416016 ,  0.7849864 ,  0.54117547],\n",
        "       [ 0.16861422,  0.87596748,  0.13671782],\n",
        "       [ 0.17867474,  0.60108648,  0.66269291],\n",
        "       [ 0.99611623,  0.33233658,  0.44046044],\n",
        "       [ 0.11866661,  0.06867733,  0.82068298]])"
       ]
      }
     ],
     "prompt_number": 18
    },
    {
     "cell_type": "code",
     "collapsed": false,
     "input": [
      "# speichern mehrerer arrays in einer Datei\n",
      "testfile = join(temp, 'test.npz')\n",
      "\n",
      "np.savez(testfile, my_arr1=np.random.rand(5, 2), my_second_array=np.random.rand(10))"
     ],
     "language": "python",
     "metadata": {},
     "outputs": [],
     "prompt_number": 19
    },
    {
     "cell_type": "code",
     "collapsed": false,
     "input": [
      "# laden mehrerer arrays:\n",
      "data = np.load(testfile)\n",
      "data"
     ],
     "language": "python",
     "metadata": {},
     "outputs": [
      {
       "metadata": {},
       "output_type": "pyout",
       "prompt_number": 20,
       "text": [
        "<numpy.lib.npyio.NpzFile at 0x2404410>"
       ]
      }
     ],
     "prompt_number": 20
    },
    {
     "cell_type": "code",
     "collapsed": false,
     "input": [
      "data.keys()"
     ],
     "language": "python",
     "metadata": {},
     "outputs": [
      {
       "metadata": {},
       "output_type": "pyout",
       "prompt_number": 21,
       "text": [
        "['my_arr1', 'my_second_array']"
       ]
      }
     ],
     "prompt_number": 21
    },
    {
     "cell_type": "code",
     "collapsed": false,
     "input": [
      "data['my_second_array']"
     ],
     "language": "python",
     "metadata": {},
     "outputs": [
      {
       "metadata": {},
       "output_type": "pyout",
       "prompt_number": 22,
       "text": [
        "array([ 0.81826648,  0.37634104,  0.77667088,  0.49814843,  0.23930343,\n",
        "        0.41087392,  0.56343932,  0.03352889,  0.61524557,  0.33875982])"
       ]
      }
     ],
     "prompt_number": 22
    },
    {
     "cell_type": "markdown",
     "metadata": {
      "slideshow": {
       "slide_type": "subslide"
      }
     },
     "source": [
      "### Laden beliebiger Daten im Bin\u00e4rformat"
     ]
    },
    {
     "cell_type": "code",
     "collapsed": false,
     "input": [
      "testfile = join(temp, 'test.bin.npy')\n",
      "\n",
      "np.save(testfile, np.arange(10).reshape(2, 5))\n",
      "\n",
      "# Datei \u00f6ffnen:\n",
      "infile = file(testfile)\n",
      "\n",
      "# Header \u00fcberspringen\n",
      "infile.seek(80)\n",
      "\n",
      "# Datentyp definieren: 2 x long int\n",
      "numdtype = np.dtype('2l')\n",
      "\n",
      "# Daten auslesen!\n",
      "np.fromfile(infile, dtype=numdtype)"
     ],
     "language": "python",
     "metadata": {
      "slideshow": {
       "slide_type": "fragment"
      }
     },
     "outputs": [
      {
       "metadata": {},
       "output_type": "pyout",
       "prompt_number": 23,
       "text": [
        "array([[0, 1],\n",
        "       [2, 3],\n",
        "       [4, 5],\n",
        "       [6, 7],\n",
        "       [8, 9]])"
       ]
      }
     ],
     "prompt_number": 23
    },
    {
     "cell_type": "markdown",
     "metadata": {
      "slideshow": {
       "slide_type": "slide"
      }
     },
     "source": [
      "## memory-mapped: Speicher gepufferter Dateizugriff"
     ]
    },
    {
     "cell_type": "code",
     "collapsed": false,
     "input": [
      "testfile = join(temp, 'big_test_file.npy')\n",
      "\n",
      "\n",
      "np.save(testfile, np.empty(shape=(32 * 1024 ** 2)))\n",
      "!ls -ahl $testfile"
     ],
     "language": "python",
     "metadata": {},
     "outputs": [
      {
       "output_type": "stream",
       "stream": "stdout",
       "text": [
        "-rw-r--r-- 1 cg cg 257M Oct 14 00:36 /tmp/big_test_file.npy\r\n"
       ]
      }
     ],
     "prompt_number": 24
    },
    {
     "cell_type": "code",
     "collapsed": false,
     "input": [
      "%timeit -n 1 nur_von_interesse = np.load(testfile)[10000:20000]"
     ],
     "language": "python",
     "metadata": {},
     "outputs": [
      {
       "output_type": "stream",
       "stream": "stdout",
       "text": [
        "1 loops, best of 3: 387 ms per loop\n"
       ]
      }
     ],
     "prompt_number": 25
    },
    {
     "cell_type": "code",
     "collapsed": false,
     "input": [
      "%timeit -n 1 nur_von_interesse = np.load(testfile, mmap_mode='r')[10000:20000]"
     ],
     "language": "python",
     "metadata": {},
     "outputs": [
      {
       "output_type": "stream",
       "stream": "stdout",
       "text": [
        "1 loops, best of 3: 2.78 ms per loop\n"
       ]
      }
     ],
     "prompt_number": 26
    },
    {
     "cell_type": "markdown",
     "metadata": {
      "slideshow": {
       "slide_type": "slide"
      }
     },
     "source": [
      "## Speichern / Laden im matlab\u00ae format"
     ]
    },
    {
     "cell_type": "code",
     "collapsed": false,
     "input": [
      "from scipy.io import loadmat, savemat\n",
      "\n",
      "foo = np.random.rand(10)\n",
      "bar = np.arange(100)\n",
      "\n",
      "testfile = join(temp, 'test.mat')\n",
      "\n",
      "\n",
      "savemat(testfile, {'foo': foo, 'bar': bar}, oned_as='row')\n",
      "\n",
      "my_mat = loadmat(testfile)\n",
      "my_mat"
     ],
     "language": "python",
     "metadata": {},
     "outputs": [
      {
       "metadata": {},
       "output_type": "pyout",
       "prompt_number": 27,
       "text": [
        "{'__globals__': [],\n",
        " '__header__': 'MATLAB 5.0 MAT-file Platform: posix, Created on: Mon Oct 14 00:36:32 2013',\n",
        " '__version__': '1.0',\n",
        " 'bar': array([[ 0,  1,  2,  3,  4,  5,  6,  7,  8,  9, 10, 11, 12, 13, 14, 15, 16,\n",
        "         17, 18, 19, 20, 21, 22, 23, 24, 25, 26, 27, 28, 29, 30, 31, 32, 33,\n",
        "         34, 35, 36, 37, 38, 39, 40, 41, 42, 43, 44, 45, 46, 47, 48, 49, 50,\n",
        "         51, 52, 53, 54, 55, 56, 57, 58, 59, 60, 61, 62, 63, 64, 65, 66, 67,\n",
        "         68, 69, 70, 71, 72, 73, 74, 75, 76, 77, 78, 79, 80, 81, 82, 83, 84,\n",
        "         85, 86, 87, 88, 89, 90, 91, 92, 93, 94, 95, 96, 97, 98, 99]]),\n",
        " 'foo': array([[  9.28331882e-01,   4.74084177e-01,   2.86543779e-01,\n",
        "           8.65014102e-01,   1.39980656e-01,   6.07253777e-04,\n",
        "           3.27543494e-01,   5.31677215e-01,   8.84744751e-01,\n",
        "           7.70139259e-01]])}"
       ]
      }
     ],
     "prompt_number": 27
    },
    {
     "cell_type": "markdown",
     "metadata": {
      "slideshow": {
       "slide_type": "slide"
      }
     },
     "source": [
      "---\n",
      "# \u00dcbungen"
     ]
    },
    {
     "cell_type": "markdown",
     "metadata": {},
     "source": [
      "- speicher und lade die arrays foo und bar im numpy_compressed format ab"
     ]
    },
    {
     "cell_type": "code",
     "collapsed": false,
     "input": [
      "foo = np.random.rand(8, 8)\n",
      "bar = np.arange(256, dtype=np.uint8)"
     ],
     "language": "python",
     "metadata": {},
     "outputs": [],
     "prompt_number": 28
    },
    {
     "cell_type": "code",
     "collapsed": false,
     "input": [],
     "language": "python",
     "metadata": {},
     "outputs": [],
     "prompt_number": 28
    },
    {
     "cell_type": "markdown",
     "metadata": {},
     "source": [
      "- Lade die Datei 'files/testfile.bin' als memmap\n",
      "    - der Header (str) hat die Gr\u00f6\u00dfe 24\n",
      "    - die Daten liegen im Format int8 vor\n",
      "    - die Daten haben eine Form von 8 x 8"
     ]
    },
    {
     "cell_type": "code",
     "collapsed": false,
     "input": [],
     "language": "python",
     "metadata": {},
     "outputs": [],
     "prompt_number": 28
    },
    {
     "cell_type": "markdown",
     "metadata": {},
     "source": [
      "---\n",
      "<p align=\"center\">Tutorial: Einf\u00fchrung in NumPy von Henning Dickten und Christian Geier, PyCon.DE 2013</p>\n",
      "<p align=\"center\"><a rel=\"license\" href=\"http://creativecommons.org/licenses/by-nc-sa/3.0/deed.de\"><img alt=\"Creative Commons Lizenzvertrag\" style=\"border-width:0\" src=\"http://i.creativecommons.org/l/by-nc-sa/3.0/88x31.png\"/></a></p>\n",
      "\n",
      "<p align=\"center\">Dieses Werk bzw. Inhalt ist lizenziert unter einer <a rel=\"license\" href=\"http://creativecommons.org/licenses/by-nc-sa/3.0/deed.de\">Creative Commons Namensnennung - Nicht-kommerziell - Weitergabe unter gleichen Bedingungen 3.0 Unported Lizenz</a>.</p>\n",
      "\n"
     ]
    }
   ],
   "metadata": {}
  }
 ]
}