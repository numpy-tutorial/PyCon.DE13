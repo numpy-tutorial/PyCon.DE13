{
 "metadata": {
  "name": ""
 },
 "nbformat": 3,
 "nbformat_minor": 0,
 "worksheets": [
  {
   "cells": [
    {
     "cell_type": "markdown",
     "metadata": {},
     "source": [
      "# 09 Ausblick"
     ]
    },
    {
     "cell_type": "markdown",
     "metadata": {},
     "source": [
      "## Beschleunigung"
     ]
    },
    {
     "cell_type": "markdown",
     "metadata": {},
     "source": [
      "### Cython\n",
      "\n",
      "http://cython.org\n",
      "\n",
      "* ein statische Compiler f\u00fcr Python und die Sprache Cython\n",
      "* es erlaubt einfaches schreiben von C Extensions\n",
      "* erlaubt es aus Python heraus C Funktionen aufzurufen\n",
      "* zus\u00e4tzliche Performace durch statische Typisierung\n",
      "* C Code Generierung aus Python/Cython Code\n",
      "* fast alle neuen Teile von SciPy werden in Cython geschrieben\n",
      "* Open Source \u00ae und freie Software"
     ]
    },
    {
     "cell_type": "markdown",
     "metadata": {},
     "source": [
      "### C-API\n",
      "http://docs.scipy.org/doc/numpy/reference/c-api.html  \n",
      "\n",
      "- erh\u00f6ht die Performance durch statische Typisierung\n",
      "- je nach memory-layout (siehe flags) verhalten sich numpy-arrays wie klassische C-arrays\n",
      "- sehr viele numpy-Funktionen k\u00f6nnen direkt aus C angesprochen werden\n",
      "- sehr viele Cross-Plattform-Probleme sind durch numpy-macros gel\u00f6st"
     ]
    },
    {
     "cell_type": "markdown",
     "metadata": {},
     "source": [
      "### Numba\n",
      "http://numba.pydata.org/\n",
      "\n",
      "* just-in-time Compiler f\u00fcr Python und NumPy\n",
      "* basiert auf LLVM\n",
      "* Open Source \u00ae und freie Software\n",
      "* entwickelt von Continuum Analytics/Travis Oliphant\n",
      "\n",
      "* gibt auch kommerzielle Varianten mit CUDA unterst\u00fczung\n",
      "\n",
      "=> Votrag auf der PyConDE \u00fcber Continuum Analytics' Scientific Computing Stack"
     ]
    },
    {
     "cell_type": "markdown",
     "metadata": {},
     "source": [
      "\n",
      "## Pandas"
     ]
    },
    {
     "cell_type": "markdown",
     "metadata": {},
     "source": [
      "http://pandas.pydata.org/\n",
      "\n",
      "* High Level Zeitreihen Analyse Werkzeug\n",
      "* kommt aus der Finanzwelt\n",
      "* DataFrame wie in *R*\n",
      "* Open Source \u00ae und freie Software"
     ]
    },
    {
     "cell_type": "markdown",
     "metadata": {},
     "source": [
      "---\n",
      "<p align=\"center\">Tutorial: Einf\u00fchrung in NumPy von Henning Dickten und Christian Geier, PyCon.DE 2013</p>\n",
      "<p align=\"center\"><a rel=\"license\" href=\"http://creativecommons.org/licenses/by-nc-sa/3.0/deed.de\"><img alt=\"Creative Commons Lizenzvertrag\" style=\"border-width:0\" src=\"http://i.creativecommons.org/l/by-nc-sa/3.0/88x31.png\"/></a></p>\n",
      "\n",
      "<p align=\"center\">Dieses Werk bzw. Inhalt ist lizenziert unter einer <a rel=\"license\" href=\"http://creativecommons.org/licenses/by-nc-sa/3.0/deed.de\">Creative Commons Namensnennung - Nicht-kommerziell - Weitergabe unter gleichen Bedingungen 3.0 Unported Lizenz</a>.</p>\n",
      "\n"
     ]
    }
   ],
   "metadata": {}
  }
 ]
}